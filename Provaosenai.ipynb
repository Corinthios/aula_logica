{
 "cells": [
  {
   "cell_type": "markdown",
   "metadata": {},
   "source": [
    "1. Faça um Programa que mostre a mensagem \"Seja Bem-Vindo ao SESI 😎\" na tela."
   ]
  },
  {
   "cell_type": "code",
   "execution_count": 1,
   "metadata": {},
   "outputs": [
    {
     "name": "stdout",
     "output_type": "stream",
     "text": [
      "seja benvindo ao Sesi 😎😎\n"
     ]
    }
   ],
   "source": [
    "print(\"seja benvindo ao Sesi 😎😎\")"
   ]
  },
  {
   "cell_type": "markdown",
   "metadata": {},
   "source": [
    "2. Faça um Programa que peça um número e então mostre a mensagem “O número\n",
    "informado foi [número]”."
   ]
  },
  {
   "cell_type": "code",
   "execution_count": 2,
   "metadata": {},
   "outputs": [
    {
     "name": "stdout",
     "output_type": "stream",
     "text": [
      "12\n"
     ]
    }
   ],
   "source": [
    "print(input(\"qual seu numero piranha\"))"
   ]
  },
  {
   "cell_type": "markdown",
   "metadata": {},
   "source": [
    "3. Faça um programa que receba 2 números inteiros e exiba a divisão entre eles"
   ]
  },
  {
   "cell_type": "code",
   "execution_count": 8,
   "metadata": {},
   "outputs": [
    {
     "name": "stdout",
     "output_type": "stream",
     "text": [
      "13.666666666666666\n"
     ]
    }
   ],
   "source": [
    "n1=int(input(\"qual seu numero cadela\"))\n",
    "n2=int(input(\"faaaallaa\"))\n",
    "print(f\"{n1/n2}\")"
   ]
  },
  {
   "cell_type": "markdown",
   "metadata": {},
   "source": [
    "4. Faça um Programa que pergunte quanto você ganha por hora e o número de horas\n",
    "trabalhadas no mês. Calcule e mostre o total do seu salário no referido mês."
   ]
  },
  {
   "cell_type": "code",
   "execution_count": 10,
   "metadata": {},
   "outputs": [
    {
     "name": "stdout",
     "output_type": "stream",
     "text": [
      "2000000.0\n"
     ]
    }
   ],
   "source": [
    "ganhaoque=float(input(\"quanto tus ganha por programa\"))\n",
    "pormestrabalha=200\n",
    "salario=pormestrabalha*ganhaoque\n",
    "print(f\"{salario}\")"
   ]
  },
  {
   "cell_type": "markdown",
   "metadata": {},
   "source": [
    "5. Faça um Programa que verifique se uma letra digitada é \"F\" ou \"M\". Conforme a letra\n",
    "escrever: F - Feminino, M - Masculino, Sexo Inválido."
   ]
  },
  {
   "cell_type": "code",
   "execution_count": 11,
   "metadata": {},
   "outputs": [
    {
     "name": "stdout",
     "output_type": "stream",
     "text": [
      "masculino\n"
     ]
    }
   ],
   "source": [
    "sexo=input(\"qual o seu sexo\")\n",
    "if sexo==\"m\":\n",
    "    print(\"masculino\")\n",
    "elif sexo==\"f\":\n",
    "    print(\"mulher\")\n",
    "else:\n",
    "    print(\"tu é o que\")\n",
    "\n"
   ]
  },
  {
   "cell_type": "markdown",
   "metadata": {},
   "source": [
    "6 Tendo como dado de entrada a altura (h) de uma pessoa e o sexo, construa um algoritmo\n",
    "que calcule seu peso ideal, utilizando as seguintes fórmulas:\n",
    "Para homens: (72.7 * altura) – 58 Para mulheres: (62.1 * altura) - 44.7"
   ]
  },
  {
   "cell_type": "code",
   "execution_count": null,
   "metadata": {},
   "outputs": [],
   "source": [
    "sexo=input(\"qual o seu sexo\")\n",
    "if sexo==\"m\":\n",
    "    print(\"masculino\")\n",
    "    h=float(input(\"sua altura\"))\n",
    "    total=72.7*h-58\n",
    "    print(total)\n",
    "elif sexo==\"f\":\n",
    "    print(\"mulher\")\n",
    "    h2=float(input(\"sua altura\"))\n",
    "    latot=61.1*h2-44.7\n",
    "    print(latot)"
   ]
  },
  {
   "cell_type": "markdown",
   "metadata": {},
   "source": [
    "7\n",
    "Faça um Programa que pergunte quanto você ganha por hora e o número de horas\n",
    "trabalhadas no mês.\n",
    "Calcule e mostre o total do seu salário no referido mês, sabendo-se que são descontados\n",
    "11% para o Imposto de Renda, 8% para o INSS e 5% para o sindicato, faça um programa\n",
    "que nos dê: salário bruto. quanto pagou ao INSS. quanto pagou ao sindicato. o salário\n",
    "líquido. calcule os descontos e o salário líquido, conforme a tabela abaixo:\n",
    "+ Salário Bruto : R$\n",
    "- IR (11%) : R$\n",
    "- INSS (8%) : R$\n",
    "- Sindicato ( 5%) : R$\n",
    "= Salário Liquido : R$\n",
    "Obs.: Salário Bruto - Descontos = Salário Líquido."
   ]
  },
  {
   "cell_type": "code",
   "execution_count": 12,
   "metadata": {},
   "outputs": [
    {
     "name": "stdout",
     "output_type": "stream",
     "text": [
      "26000.0\n",
      "Seu salario bruto éra de 26000.0 teve que tirar2860.0 mais 2080.0 e tambem1300.0\n",
      "tendo como total de19760.0\n"
     ]
    }
   ],
   "source": [
    "s=float(input(\"qual seu dindi\"))\n",
    "mes=200\n",
    "salario_bruto=mes*s\n",
    "print(salario_bruto)\n",
    "ir=salario_bruto*0.11\n",
    "inss=salario_bruto*0.08\n",
    "sindicato=salario_bruto*0.05\n",
    "print(f\"Seu salario bruto éra de {salario_bruto} teve que tirar{ir} mais {inss} e tambem{sindicato}\")\n",
    "print(f\"tendo como total de{salario_bruto-ir-inss-sindicato}\")\n"
   ]
  },
  {
   "cell_type": "markdown",
   "metadata": {},
   "source": [
    "8. Faça uma função que peça um valor e mostre na tela se o valor é positivo ou negativo."
   ]
  },
  {
   "cell_type": "code",
   "execution_count": 13,
   "metadata": {},
   "outputs": [
    {
     "name": "stdout",
     "output_type": "stream",
     "text": [
      "negativo\n"
     ]
    }
   ],
   "source": [
    "n1=float(input(\"qual o seu numero\"))\n",
    "if n1<0:\n",
    "    print(\"negativo\")\n",
    "else:\n",
    "    print(\"positivo\")"
   ]
  },
  {
   "cell_type": "markdown",
   "metadata": {},
   "source": [
    "9. Faça uma função que imprima na tela apenas os números ímpares entre 1 e 50."
   ]
  },
  {
   "cell_type": "code",
   "execution_count": 14,
   "metadata": {},
   "outputs": [
    {
     "name": "stdout",
     "output_type": "stream",
     "text": [
      "numero1 é inpar\n",
      "numero3 é inpar\n",
      "numero5 é inpar\n",
      "numero7 é inpar\n",
      "numero9 é inpar\n",
      "numero11 é inpar\n",
      "numero13 é inpar\n",
      "numero15 é inpar\n",
      "numero17 é inpar\n",
      "numero19 é inpar\n",
      "numero21 é inpar\n",
      "numero23 é inpar\n",
      "numero25 é inpar\n",
      "numero27 é inpar\n",
      "numero29 é inpar\n",
      "numero31 é inpar\n",
      "numero33 é inpar\n",
      "numero35 é inpar\n",
      "numero37 é inpar\n",
      "numero39 é inpar\n",
      "numero41 é inpar\n",
      "numero43 é inpar\n",
      "numero45 é inpar\n",
      "numero47 é inpar\n",
      "numero49 é inpar\n",
      "numero51 é inpar\n"
     ]
    }
   ],
   "source": [
    "x=1\n",
    "while x <=51:\n",
    "    if x % 2 !=0:\n",
    "        print(f'numero{x} é inpar')\n",
    "    x=x+1"
   ]
  },
  {
   "cell_type": "markdown",
   "metadata": {},
   "source": [
    "10. Faça uma função que receba dois números inteiros e gere os números inteiros que estão\n",
    "no intervalo compreendido por eles.\n"
   ]
  },
  {
   "cell_type": "code",
   "execution_count": 15,
   "metadata": {},
   "outputs": [
    {
     "name": "stdout",
     "output_type": "stream",
     "text": [
      "10\n",
      "11\n",
      "12\n"
     ]
    }
   ],
   "source": [
    "n1=int(input(\"qual o seu numero \"))\n",
    "n2=int(input(\"qual o seu numero \"))\n",
    "for x in range(n1,n2):\n",
    "    print(x)\n"
   ]
  },
  {
   "cell_type": "markdown",
   "metadata": {},
   "source": [
    "11. Faça uma função que peça um número positivo e em seguida mostre este número invertido.\n",
    "Exemplo: 12376489 => 98467321\n"
   ]
  },
  {
   "cell_type": "code",
   "execution_count": 22,
   "metadata": {},
   "outputs": [
    {
     "name": "stdout",
     "output_type": "stream",
     "text": [
      "sued\n"
     ]
    }
   ],
   "source": [
    "palavra=input('digite algo po')\n",
    "nova_palavra=\"\"\n",
    "for letra in palavra:\n",
    "    nova_palavra= letra+nova_palavra\n",
    "print(nova_palavra)\n"
   ]
  },
  {
   "cell_type": "markdown",
   "metadata": {},
   "source": [
    "12. Faça um Programa que leia um vetor A com 5 números inteiros, calcule e mostre a soma\n",
    "dos quadrados dos elementos do vetor."
   ]
  },
  {
   "cell_type": "code",
   "execution_count": 23,
   "metadata": {},
   "outputs": [
    {
     "name": "stdout",
     "output_type": "stream",
     "text": [
      "a soma 990.0\n"
     ]
    }
   ],
   "source": [
    "\n",
    "n1=float(input(\"digite o valor \"))\n",
    "n2=float(input(\"digite o valor \"))\n",
    "n3=float(input(\"digite o valor \"))\n",
    "n4=float(input(\"digite o valor \"))\n",
    "n5=float(input(\"digite o valor \"))\n",
    "soma1=n1*n1\n",
    "soma2=n2*n2\n",
    "soma3=n3*n3\n",
    "soma4=n4*n4\n",
    "soma5=n5*n5\n",
    "print(f\"a soma {soma1+soma2+soma3+soma4+soma5}\")\n",
    "\n",
    "\n",
    "\n"
   ]
  },
  {
   "cell_type": "markdown",
   "metadata": {},
   "source": [
    "13. Faça um Programa que leia 8 números inteiros e armazene-os num vetor. Armazene os\n",
    "números pares no vetor PAR e os números IMPARES no vetor impar. Imprima os três\n",
    "vetores."
   ]
  },
  {
   "cell_type": "code",
   "execution_count": 26,
   "metadata": {},
   "outputs": [
    {
     "name": "stdout",
     "output_type": "stream",
     "text": [
      "[12, 14, 23, 45, 23, 12, 17, 13]\n",
      "[12, 14, 12]\n",
      "[23, 45, 23, 17, 13]\n"
     ]
    }
   ],
   "source": [
    "numeros = []\n",
    "par = []\n",
    "impar = []\n",
    "for x in range(8):\n",
    "    numero = int(input('Digite um número inteiro'))\n",
    "    numeros.append(numero)\n",
    "    if numero % 2 == 0:\n",
    "        par.append(numero)\n",
    "    elif numero %2 != 0:\n",
    "        impar.append(numero)\n",
    "print (numeros)\n",
    "print (f' Os pares {par}')\n",
    "print (f\"os pares {impar}\")\n"
   ]
  }
 ],
 "metadata": {
  "kernelspec": {
   "display_name": "Python 3",
   "language": "python",
   "name": "python3"
  },
  "language_info": {
   "codemirror_mode": {
    "name": "ipython",
    "version": 3
   },
   "file_extension": ".py",
   "mimetype": "text/x-python",
   "name": "python",
   "nbconvert_exporter": "python",
   "pygments_lexer": "ipython3",
   "version": "3.12.3"
  }
 },
 "nbformat": 4,
 "nbformat_minor": 2
}
