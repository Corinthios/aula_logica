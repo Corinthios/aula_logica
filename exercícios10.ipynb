{
 "cells": [
  {
   "cell_type": "markdown",
   "metadata": {},
   "source": [
    "1. Escreva uma função que utilize uma variável global para contar o número de vezes que foi\n",
    "chamada. A função deve retornar o número atual de chamadas."
   ]
  },
  {
   "cell_type": "code",
   "execution_count": 4,
   "metadata": {},
   "outputs": [
    {
     "name": "stdout",
     "output_type": "stream",
     "text": [
      "1\n",
      "2\n"
     ]
    }
   ],
   "source": [
    "ma=0\n",
    "def chamadas():\n",
    "    global ma\n",
    "    ma += 1\n",
    "    return(ma)\n",
    "\n",
    "print(chamadas())\n",
    "print(chamadas())\n"
   ]
  },
  {
   "cell_type": "markdown",
   "metadata": {},
   "source": [
    "2. Crie um algoritmo que receba em variável global o valor atual do dólar e do euro, crie uma\n",
    "função que receba o valor a ser convertido e imprima a conversão em dólar e em euro\n"
   ]
  },
  {
   "cell_type": "code",
   "execution_count": 2,
   "metadata": {},
   "outputs": [
    {
     "name": "stdout",
     "output_type": "stream",
     "text": [
      "seu valor em dolar é 0.58 e em euro é 0.55\n"
     ]
    }
   ],
   "source": [
    "dolar= 5.13\n",
    "euro=5.45\n",
    "def tranformar(v1):\n",
    "    reldola=v1/dolar\n",
    "    reluro=v1/euro\n",
    "    print(f\"seu valor em dolar é {reldola:.2f} e em euro é {reluro:.2f}\")\n",
    "\n",
    "tranformar(float(input(\"qual o valor\")))"
   ]
  },
  {
   "cell_type": "markdown",
   "metadata": {},
   "source": [
    "3. Escreva uma função que recebe um nome e o adicione a uma lista de nomes global. Em\n",
    "seguida, escreva outra função que remova um elemento dessa lista global recebendo o nome."
   ]
  },
  {
   "cell_type": "code",
   "execution_count": 16,
   "metadata": {},
   "outputs": [
    {
     "name": "stdout",
     "output_type": "stream",
     "text": [
      "['marcos', 'vinicius', 'marcinho', 'douglas', 'marcs']\n",
      "['marcos', 'vinicius', 'marcinho', 'douglas']\n"
     ]
    }
   ],
   "source": [
    "noems=[\"marcos\",\"vinicius\",\"marcinho\",\"douglas\"]\n",
    "def adicionar(nome):\n",
    "    noems.append(nome)\n",
    "    print(noems)\n",
    "def remover(nomes):\n",
    "    noems.remove(nomes)\n",
    "    print(noems)\n",
    "adicionar('marcs')\n",
    "remover(\"marcs\")    "
   ]
  },
  {
   "cell_type": "markdown",
   "metadata": {},
   "source": [
    "Crie um caixa eletrônico: Crie uma variável global para armazenar o saldo, crie função para\n",
    "depositar e sacar, recebendo o valor como parâmetro, crie outra função para consultar o\n",
    "saldo. Crie um menu interativo com while para navegar entre as funções:\n",
    "[1] Depositar [4] Parar programa\n",
    "[2] Sacar\n",
    "[3] Consultar saldo"
   ]
  },
  {
   "cell_type": "code",
   "execution_count": 3,
   "metadata": {},
   "outputs": [
    {
     "name": "stdout",
     "output_type": "stream",
     "text": [
      "menu\n",
      "[1] depositar\n",
      "[2]Sacar\n",
      "[3]consultar\n",
      "[4] sair\n"
     ]
    }
   ],
   "source": [
    "caixa=0\n",
    "def depositar(v1):\n",
    "    global caixa \n",
    "    saldo= saldo + caixa\n",
    "def sacar(v1):\n",
    "    global caixa\n",
    "    saldo=saldo-caixa\n",
    "def consutarsaldo():\n",
    "    print(f\"seu saldo R$ {caixa:.2f}\")\n",
    "\n",
    "print(\"menu\")\n",
    "print(\"[1] depositar\")\n",
    "print('[2]Sacar')\n",
    "print('[3]consultar')\n",
    "print('[4] sair')\n",
    "while True:\n",
    "    opcao=input(\"digite sua opçao de menu\")\n",
    "    if opcao=='1':\n",
    "        valor=float(input('digite o valor para depositar'))\n",
    "    elif opcao=='2':\n",
    "        valor(float(input(\"digite o valor pra sacar\")))\n",
    "    elif opcao==\"3\":\n",
    "        consutarsaldo()\n",
    "    else:\n",
    "        break\n"
   ]
  },
  {
   "cell_type": "markdown",
   "metadata": {},
   "source": [
    "Desenhando um retângulo. Crie um algoritmo que receba em variável global um caractere\n",
    "especial. Em uma função receba 2 parâmetros altura e largura e desenhe de acordo com a\n",
    "largura, a quantidade de vezes que irá repetir o caractere, e de acordo com a altura, o número\n",
    "de linhas que será desenhado. Ex: Caractere +, largura 20 altura 5:\n",
    "\n",
    "++++++++++++++++++++\n",
    "++++++++++++++++++++\n",
    "++++++++++++++++++++\n",
    "++++++++++++++++++++\n",
    "++++++++++++++++++++"
   ]
  },
  {
   "cell_type": "code",
   "execution_count": 6,
   "metadata": {},
   "outputs": [
    {
     "name": "stdout",
     "output_type": "stream",
     "text": [
      "++++++++++++++++++++\n",
      "++++++++++++++++++++\n",
      "++++++++++++++++++++\n",
      "++++++++++++++++++++\n",
      "++++++++++++++++++++\n"
     ]
    }
   ],
   "source": [
    "caracter='+'\n",
    "def desenhar(l,a):\n",
    "    for i in range(a):\n",
    "        print(caracter*l)\n",
    "\n",
    "desenhar(20,5)"
   ]
  }
 ],
 "metadata": {
  "kernelspec": {
   "display_name": "Python 3",
   "language": "python",
   "name": "python3"
  },
  "language_info": {
   "codemirror_mode": {
    "name": "ipython",
    "version": 3
   },
   "file_extension": ".py",
   "mimetype": "text/x-python",
   "name": "python",
   "nbconvert_exporter": "python",
   "pygments_lexer": "ipython3",
   "version": "3.12.3"
  }
 },
 "nbformat": 4,
 "nbformat_minor": 2
}
