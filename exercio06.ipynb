{
 "cells": [
  {
   "cell_type": "markdown",
   "metadata": {},
   "source": [
    "Utilize o for para criar os numeros impares de 1 a 40 "
   ]
  },
  {
   "cell_type": "code",
   "execution_count": 5,
   "metadata": {},
   "outputs": [
    {
     "name": "stdout",
     "output_type": "stream",
     "text": [
      "o numero 1 é impar\n",
      "o numero 3 é impar\n",
      "o numero 5 é impar\n",
      "o numero 7 é impar\n",
      "o numero 9 é impar\n",
      "o numero 11 é impar\n",
      "o numero 13 é impar\n",
      "o numero 15 é impar\n",
      "o numero 17 é impar\n",
      "o numero 19 é impar\n",
      "o numero 21 é impar\n",
      "o numero 23 é impar\n",
      "o numero 25 é impar\n",
      "o numero 27 é impar\n",
      "o numero 29 é impar\n",
      "o numero 31 é impar\n",
      "o numero 33 é impar\n",
      "o numero 35 é impar\n",
      "o numero 37 é impar\n",
      "o numero 39 é impar\n"
     ]
    }
   ],
   "source": [
    "for x in range(40):\n",
    "    if x %2!=0:\n",
    "        print(f\"o numero {x} é impar\")"
   ]
  },
  {
   "cell_type": "markdown",
   "metadata": {},
   "source": [
    "Gere os 6 números do sorteio da mega-sena de forma aleatória."
   ]
  },
  {
   "cell_type": "code",
   "execution_count": 23,
   "metadata": {},
   "outputs": [
    {
     "name": "stdout",
     "output_type": "stream",
     "text": [
      "13\n",
      "12\n",
      "16\n",
      "60\n",
      "19\n",
      "2\n"
     ]
    }
   ],
   "source": [
    "import random\n",
    "for x in range(1,7): \n",
    "  numero=random.randint (1,60)\n",
    "  print(numero)"
   ]
  },
  {
   "cell_type": "markdown",
   "metadata": {},
   "source": [
    "Receba 5 números e verifique a soma e a quantidade de todos os pares e ímpares digitados"
   ]
  },
  {
   "cell_type": "code",
   "execution_count": 28,
   "metadata": {},
   "outputs": [
    {
     "name": "stdout",
     "output_type": "stream",
     "text": [
      "a soma é 10 sao 5 pares e 0 impares\n"
     ]
    }
   ],
   "source": [
    "soma=0\n",
    "impar=0\n",
    "par=0\n",
    "\n",
    "for nr in range(5): \n",
    "    nr=int(input('digite o numero'))\n",
    "    soma=soma + numero  \n",
    "    if numero %2 ==0:\n",
    "        par = par +1 \n",
    "    else:\n",
    "        impar=impar +1 \n",
    "\n",
    "\n",
    "print(f\"a soma é {soma} sao {par} pares e {impar} impares\") "
   ]
  },
  {
   "cell_type": "markdown",
   "metadata": {},
   "source": [
    "4. Solicite os parâmetros de início, fim e passo para o laço de repetição usando a função range()\n",
    "e exiba o valor atual da variável de controle a cada iteração. range( x , y , z )"
   ]
  },
  {
   "cell_type": "code",
   "execution_count": 1,
   "metadata": {},
   "outputs": [
    {
     "name": "stdout",
     "output_type": "stream",
     "text": [
      "5\n",
      "7\n",
      "9\n"
     ]
    }
   ],
   "source": [
    "inucio=int(input(\"digite o valoer\"))\n",
    "fim=int(input(\"digite o valoer\"))\n",
    "passo=int(input(\"digite o valoer\"))\n",
    "for x in range(inucio,fim, passo):\n",
    "    print(x)"
   ]
  },
  {
   "cell_type": "markdown",
   "metadata": {},
   "source": [
    "5"
   ]
  },
  {
   "cell_type": "code",
   "execution_count": 6,
   "metadata": {},
   "outputs": [
    {
     "name": "stdout",
     "output_type": "stream",
     "text": [
      "soma total91.66666666666667\n",
      "soma total12.0\n",
      "soma total(299/5)\n"
     ]
    }
   ],
   "source": [
    "\n",
    "soma_mulhres=0\n",
    "soma_homens=0\n",
    "qtd_mulhres=0\n",
    "qtd_homens=0 \n",
    "for x in range(5):\n",
    "    idade=int(input(\"digite a idade\"))\n",
    "    sexo=input(\"digite a sexo\")\n",
    "    if sexo=='f':\n",
    "        soma_mulhres=soma_mulhres+idade\n",
    "        qtd_mulhres=qtd_mulhres+1\n",
    "    else:\n",
    "        soma_homens=soma_homens+idade\n",
    "        qtd_homens=qtd_homens+1\n",
    "print(f'soma total{soma_homens/qtd_homens}masculino')\n",
    "print(f'soma total{soma_mulhres/qtd_mulhres} feminino')\n",
    "print(f'soma total({soma_mulhres + soma_homens}/{qtd_homens + qtd_mulhres})')"
   ]
  },
  {
   "cell_type": "code",
   "execution_count": 8,
   "metadata": {},
   "outputs": [
    {
     "name": "stdout",
     "output_type": "stream",
     "text": [
      "7\n",
      "14\n",
      "21\n",
      "28\n",
      "35\n",
      "42\n",
      "49\n",
      "56\n",
      "63\n",
      "70\n",
      "77\n",
      "84\n",
      "91\n",
      "98\n"
     ]
    }
   ],
   "source": [
    "for nr in range(5,100):\n",
    "    if nr % 7 ==0:\n",
    "        print(nr)"
   ]
  },
  {
   "cell_type": "code",
   "execution_count": 14,
   "metadata": {},
   "outputs": [
    {
     "name": "stdout",
     "output_type": "stream",
     "text": [
      "socram\n"
     ]
    }
   ],
   "source": [
    "palavra=input('digite algo po')\n",
    "nova_palavra=\"\"\n",
    "for letra in palavra:\n",
    "    nova_palavra= letra+nova_palavra\n",
    "print(nova_palavra)"
   ]
  },
  {
   "cell_type": "markdown",
   "metadata": {},
   "source": [
    "28/03/2024 Vetores / listas "
   ]
  },
  {
   "cell_type": "code",
   "execution_count": 18,
   "metadata": {},
   "outputs": [
    {
     "ename": "SyntaxError",
     "evalue": "invalid syntax. Perhaps you forgot a comma? (4095149450.py, line 3)",
     "output_type": "error",
     "traceback": [
      "\u001b[1;36m  Cell \u001b[1;32mIn[18], line 3\u001b[1;36m\u001b[0m\n\u001b[1;33m    print(frutas{maça0,})\u001b[0m\n\u001b[1;37m          ^\u001b[0m\n\u001b[1;31mSyntaxError\u001b[0m\u001b[1;31m:\u001b[0m invalid syntax. Perhaps you forgot a comma?\n"
     ]
    }
   ],
   "source": [
    "frutas={ \"maça\", \"banana\", \"uva\", \"abacaxi\",\"melao\"}\n",
    "print(frutas)\n",
    "print0,(frutas{maça0,})"
   ]
  }
 ],
 "metadata": {
  "kernelspec": {
   "display_name": "Python 3",
   "language": "python",
   "name": "python3"
  },
  "language_info": {
   "codemirror_mode": {
    "name": "ipython",
    "version": 3
   },
   "file_extension": ".py",
   "mimetype": "text/x-python",
   "name": "python",
   "nbconvert_exporter": "python",
   "pygments_lexer": "ipython3",
   "version": "3.12.3"
  }
 },
 "nbformat": 4,
 "nbformat_minor": 2
}
