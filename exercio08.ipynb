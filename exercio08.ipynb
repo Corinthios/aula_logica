{
 "cells": [
  {
   "cell_type": "markdown",
   "metadata": {},
   "source": [
    "Crie uma lista com os números de 1 a 10 e imprima cada número."
   ]
  },
  {
   "cell_type": "code",
   "execution_count": 1,
   "metadata": {},
   "outputs": [
    {
     "name": "stdout",
     "output_type": "stream",
     "text": [
      "1\n",
      "2\n",
      "3\n",
      "4\n",
      "5\n",
      "6\n",
      "7\n",
      "8\n",
      "9\n",
      "10\n"
     ]
    }
   ],
   "source": [
    "lista_numeros=[1,2,3,4,5,6,7,8,9,10]\n",
    "for nms in lista_numeros:\n",
    "    print(nms)\n"
   ]
  },
  {
   "cell_type": "markdown",
   "metadata": {},
   "source": [
    "Crie uma lista com os nomes de três amigos e imprima cada nome."
   ]
  },
  {
   "cell_type": "code",
   "execution_count": 1,
   "metadata": {},
   "outputs": [
    {
     "name": "stdout",
     "output_type": "stream",
     "text": [
      "Roque\n",
      "paulo\n",
      "guisoni\n",
      "rudalov\n",
      "caua\n",
      "vinicius\n",
      "felipe\n",
      "pereira\n",
      "lucas\n",
      "Minholi\n",
      "kaio\n",
      "augusto\n",
      "digo\n",
      "neymar\n",
      "cristino Ronaldo\n"
     ]
    }
   ],
   "source": [
    "litas_amigos=[\"Roque\",\"paulo\",\"guisoni\",\"rudalov\",\"caua\",\"vinicius\",\"felipe\",\"pereira\",\"lucas\",\"Minholi\",\"kaio\",\"augusto\",\"digo\",\"neymar\",\"cristino Ronaldo\"]\n",
    "for amigos in litas_amigos:\n",
    "    print(amigos)"
   ]
  },
  {
   "cell_type": "markdown",
   "metadata": {},
   "source": [
    "Crie uma lista com os meses do ano e imprima apenas os meses que começam com \"J\"."
   ]
  },
  {
   "cell_type": "code",
   "execution_count": 5,
   "metadata": {},
   "outputs": [
    {
     "name": "stdout",
     "output_type": "stream",
     "text": [
      "janero\n",
      "junho\n",
      "julho\n"
     ]
    }
   ],
   "source": [
    "lista_meses=[\"janero\",\"fevereiro\",\"março\",\"abril\",\"maio\",\"junho\",\"julho\",\"agosto\",\"setembro\",\"otubro\",\"novembro\",\"dezembro\"]\n",
    "for mes in lista_meses:\n",
    "    if mes[0]==\"j\" :\n",
    "        print(mes)\n",
    "\n"
   ]
  },
  {
   "cell_type": "markdown",
   "metadata": {},
   "source": [
    "    <Crie uma lista com as palavras \"gato\", \"cachorro\", \"pássaro\" e \"peixe\", e imprima cada palavra em maiúsculas.\n",
    "\n",
    "\n"
   ]
  },
  {
   "cell_type": "code",
   "execution_count": 2,
   "metadata": {},
   "outputs": [
    {
     "name": "stdout",
     "output_type": "stream",
     "text": [
      "Gato\n",
      "Cachorro\n",
      "Passaro\n",
      "Peixe\n"
     ]
    }
   ],
   "source": [
    "animais=[\"gato\",\"cachorro\",\"passaro\",\"peixe\"]\n",
    "for lista in animais:\n",
    "    print(lista.upper())\n",
    "    #capitalize para deixar a primeira maiúcula  "
   ]
  },
  {
   "cell_type": "markdown",
   "metadata": {},
   "source": [
    "\n",
    "5. Crie uma lista com 5 números aleatórios e exiba o nr e seu dobro."
   ]
  },
  {
   "cell_type": "code",
   "execution_count": 20,
   "metadata": {},
   "outputs": [
    {
     "name": "stdout",
     "output_type": "stream",
     "text": [
      "2\n",
      "dobro 4\n",
      "3\n",
      "dobro 6\n",
      "5\n",
      "dobro 10\n",
      "7\n",
      "dobro 14\n",
      "8\n",
      "dobro 16\n"
     ]
    }
   ],
   "source": [
    "\n",
    "lista = [2,3,5,7,8]\n",
    "for nmr in lista :\n",
    "    print(nmr )\n",
    "    print(f\"dobro {nmr*2}\")\n",
    "\n",
    "\n"
   ]
  },
  {
   "cell_type": "markdown",
   "metadata": {},
   "source": [
    "6. Crie uma lista com valores numéricos e encontre o maior e o menor elemento dessa lista."
   ]
  },
  {
   "cell_type": "code",
   "execution_count": 4,
   "metadata": {},
   "outputs": [
    {
     "name": "stdout",
     "output_type": "stream",
     "text": [
      "Lista de valores numéricos: [18, 90, 20, 15, 8]\n",
      "Maior elemento da lista: 90\n",
      "Menor elemento da lista: 8\n"
     ]
    }
   ],
   "source": [
    "lista = [18, 90, 20, 15, 8]\n",
    "\n",
    "maior = 0\n",
    "menor = 100000\n",
    "\n",
    "for num in lista:\n",
    "    if num > maior:\n",
    "        maior = num\n",
    "    if num < menor:\n",
    "        menor = num\n",
    "\n",
    "print(\"Lista de valores numéricos:\", lista)\n",
    "print(\"Maior elemento da lista:\", maior)\n",
    "print(\"Menor elemento da lista:\", menor)\n",
    "    \n"
   ]
  },
  {
   "cell_type": "markdown",
   "metadata": {},
   "source": [
    "Receba uma palavra do usuário e calcule quantas vogais há nesta palavra."
   ]
  },
  {
   "cell_type": "code",
   "execution_count": 5,
   "metadata": {},
   "outputs": [
    {
     "name": "stdout",
     "output_type": "stream",
     "text": [
      " a palavra feito tem 3 vogais\n"
     ]
    }
   ],
   "source": [
    "palavra=input(\"digite uma palavra\")\n",
    "vogais=[\"a\",\"e\",\"i\",\"o\",\"u\"]\n",
    "quatdade_vogais=0\n",
    "for letra in palavra:\n",
    "    if letra in vogais :\n",
    "        quatdade_vogais=quatdade_vogais+1 \n",
    "print(f' a palavra {palavra} tem {quatdade_vogais} vogais') "
   ]
  },
  {
   "cell_type": "markdown",
   "metadata": {},
   "source": [
    "/  :8. Nessa string ‘Gol;Corsa;Palio;Monza;Fusca;’, faça a separação desses itens para uma lista e exiba o item e a posição que ele está"
   ]
  }
 ],
 "metadata": {
  "kernelspec": {
   "display_name": "Python 3",
   "language": "python",
   "name": "python3"
  },
  "language_info": {
   "codemirror_mode": {
    "name": "ipython",
    "version": 3
   },
   "file_extension": ".py",
   "mimetype": "text/x-python",
   "name": "python",
   "nbconvert_exporter": "python",
   "pygments_lexer": "ipython3",
   "version": "3.12.3"
  }
 },
 "nbformat": 4,
 "nbformat_minor": 2
}
