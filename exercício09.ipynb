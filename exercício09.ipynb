{
 "cells": [
  {
   "cell_type": "markdown",
   "metadata": {},
   "source": [
    "1. Crie uma função sem parâmetros que exiba uma linha com 50 * , e uma mensagem de boas\n",
    "vindas, chame essa função por 4 vezes"
   ]
  },
  {
   "cell_type": "code",
   "execution_count": 7,
   "metadata": {},
   "outputs": [
    {
     "name": "stdout",
     "output_type": "stream",
     "text": [
      "--------------------------------------------------\n",
      "boas vindas\n",
      "--------------------------------------------------\n"
     ]
    }
   ],
   "source": [
    "def linha():\n",
    "    print(\"-\"*50)\n",
    "\n",
    "def oi():\n",
    "    linha()\n",
    "    print(\"boas vindas\")\n",
    "    linha()\n",
    "\n",
    "oi()"
   ]
  },
  {
   "cell_type": "markdown",
   "metadata": {},
   "source": [
    "2. Crie uma função que contenha uma lista com as cores primárias e exiba cada cor em uma\n",
    "linha"
   ]
  },
  {
   "cell_type": "code",
   "execution_count": 13,
   "metadata": {},
   "outputs": [
    {
     "name": "stdout",
     "output_type": "stream",
     "text": [
      "Amarelo\n",
      "vermelho\n",
      "Azul\n"
     ]
    }
   ],
   "source": [
    "def cores_primarias():\n",
    "    cores = [\"Amarelo\",\"vermelho\",\"Azul\"]\n",
    "    for cor in cores :\n",
    "        print(cor)\n",
    "\n",
    "cores_primarias()\n",
    "    \n"
   ]
  },
  {
   "cell_type": "markdown",
   "metadata": {},
   "source": [
    "3. Crie uma função que recebe um número como parâmetro e exiba a tabuada até o 10, chame\n",
    "essa função por 3 vezes enviando parâmetros diferentes"
   ]
  },
  {
   "cell_type": "code",
   "execution_count": 2,
   "metadata": {},
   "outputs": [
    {
     "name": "stdout",
     "output_type": "stream",
     "text": [
      "1x0=0\n",
      "1x1=1\n",
      "1x2=2\n",
      "1x3=3\n",
      "1x4=4\n",
      "1x5=5\n",
      "1x6=6\n",
      "1x7=7\n",
      "1x8=8\n",
      "1x9=9\n",
      "1x10=10\n",
      "2x0=0\n",
      "2x1=2\n",
      "2x2=4\n",
      "2x3=6\n",
      "2x4=8\n",
      "2x5=10\n",
      "2x6=12\n",
      "2x7=14\n",
      "2x8=16\n",
      "2x9=18\n",
      "2x10=20\n",
      "3x0=0\n",
      "3x1=3\n",
      "3x2=6\n",
      "3x3=9\n",
      "3x4=12\n",
      "3x5=15\n",
      "3x6=18\n",
      "3x7=21\n",
      "3x8=24\n",
      "3x9=27\n",
      "3x10=30\n"
     ]
    }
   ],
   "source": [
    "\n",
    "def tabuada(n2):\n",
    "    for n in  range(11):\n",
    "        print(f\"{n2}x{n}={n2*n}\")\n",
    "tabuada(int(input('qual o numero')))\n",
    "tabuada(int(input('qual o numero')))\n",
    "tabuada(int(input('qual o numero')))"
   ]
  },
  {
   "cell_type": "markdown",
   "metadata": {},
   "source": [
    "Crie uma função que receba 2 números e o operador matemático para realizar a operação\n",
    "(Ex. envio os parâmetros 2 e 5 e *, fazer a multiplicação), tratar as operações + - * / **"
   ]
  },
  {
   "cell_type": "code",
   "execution_count": 15,
   "metadata": {},
   "outputs": [
    {
     "name": "stdout",
     "output_type": "stream",
     "text": [
      "3\n"
     ]
    }
   ],
   "source": [
    "def numeros(b1,b2,op):\n",
    "    if op==\"+\":\n",
    "        resp=b1+b2\n",
    "    elif op==\"-\":\n",
    "        resp=b1-b1\n",
    "    elif op==\"*\":\n",
    "        resp=b1*b2\n",
    "    elif op=='/':\n",
    "        resp=b1/b2\n",
    "    elif op==\"**\":\n",
    "        resp=b1**b2\n",
    "    print(resp)\n",
    "      \n",
    "numeros(1,2,\"+\")\n"
   ]
  },
  {
   "cell_type": "markdown",
   "metadata": {},
   "source": [
    "5. Crie uma função que gere uma senha aleatória, deve receber como parâmetro a quantidade\n",
    "de caracteres que terá a senha, crie uma lista com todos os caracteres disponíveis para a\n",
    "senha e com o random sorteie a qual de dígitos terá a senha"
   ]
  },
  {
   "cell_type": "code",
   "execution_count": 27,
   "metadata": {},
   "outputs": [
    {
     "name": "stdout",
     "output_type": "stream",
     "text": [
      "t\n"
     ]
    }
   ],
   "source": [
    "\n",
    "import random\n",
    "\n",
    "def senhaAl3a0ri8o(tamanho):\n",
    "    listadecaracter='abvdsfrtyuu65fghij7t86ghjoytsafghjtghwfejiy-r7tgndjhcgydsbenwj9udftgbhernfo8yti'\n",
    "    senha=\"\"\n",
    "    for n in range(tamanho):\n",
    "       senha=senha+random.choice(listadecaracter)\n",
    "       return(senha)\n",
    "senhatemp=senhaAl3a0ri8o(12123456789)\n",
    "print(senhatemp)\n",
    "\n"
   ]
  }
 ],
 "metadata": {
  "kernelspec": {
   "display_name": "Python 3",
   "language": "python",
   "name": "python3"
  },
  "language_info": {
   "codemirror_mode": {
    "name": "ipython",
    "version": 3
   },
   "file_extension": ".py",
   "mimetype": "text/x-python",
   "name": "python",
   "nbconvert_exporter": "python",
   "pygments_lexer": "ipython3",
   "version": "3.12.3"
  }
 },
 "nbformat": 4,
 "nbformat_minor": 2
}
