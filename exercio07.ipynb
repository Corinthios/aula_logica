{
 "cells": [
  {
   "cell_type": "markdown",
   "metadata": {},
   "source": [
    "Após finalizar, envie o arquivo na aula 19. ----------------------------------------------------------------------------------------------------------------------------------------------------------------------------------------------------------- 1. Crie uma lista de filmes com 7 filmes a sua escolha, e faça as seguintes operações com ela:\n",
    "• Exiba apenas o primeiro o filme da lista\n",
    "• Exiba o filme da posição 4\n",
    "• Substitua o filme da última posição e exiba a lista\n",
    "• Insira um novo filme no final da lista e exiba a lista\n",
    "• Insira um novo filme na posição 5 e exiba a lista\n",
    "• Exclua o primeiro filme e exiba a lista\n",
    "• Exclua o último filme e exiba a lista\n",
    "• Exiba os 3 primeiros filmes da lista\n",
    "• Exiba os 4 últimos filmes da lista\n",
    "• Exiba a quantidade de filmes atualmente na lista\n",
    "• Ordene os filmes em ordem decrescente e exiba-os"
   ]
  },
  {
   "cell_type": "code",
   "execution_count": 24,
   "metadata": {},
   "outputs": [
    {
     "name": "stdout",
     "output_type": "stream",
     "text": [
      "['carrosII', 'Esquadrao suicida', 'O espetacular Homem aranha', 'Quebrando regras', 'It a coisa', 'O filho do Maskara', 'gente Grande 2', 'Coringa']\n",
      "carrosII\n",
      "Quebrando regras\n",
      "['carrosII', 'Esquadrao suicida', 'O espetacular Homem aranha', 'Quebrando regras', 'It a coisa', 'O filho do Maskara', 'gente Grande 2', 'Pica-pau']\n",
      "['carrosII', 'Esquadrao suicida', 'O espetacular Homem aranha', 'Quebrando regras', 'It a coisa', 'O filho do Maskara', 'gente Grande 2', 'Pica-pau', 'Todo poderoso']\n",
      "['carrosII', 'Esquadrao suicida', 'O espetacular Homem aranha', 'Quebrando regras', 'It a coisa', 'Batmam', 'gente Grande 2', 'Pica-pau', 'Todo poderoso']\n",
      "['Esquadrao suicida', 'O espetacular Homem aranha', 'Quebrando regras', 'It a coisa', 'Batmam', 'gente Grande 2', 'Pica-pau', 'Todo poderoso']\n",
      "['Esquadrao suicida', 'O espetacular Homem aranha', 'Quebrando regras', 'It a coisa', 'Batmam', 'gente Grande 2', 'Pica-pau']\n",
      "['Esquadrao suicida', 'O espetacular Homem aranha', 'Quebrando regras']\n",
      "['It a coisa', 'Batmam', 'gente Grande 2', 'Pica-pau']\n",
      "7\n",
      "['Pica-pau', 'gente Grande 2', 'Batmam', 'It a coisa', 'Quebrando regras', 'O espetacular Homem aranha', 'Esquadrao suicida']\n"
     ]
    }
   ],
   "source": [
    "filme=[\"carrosII\",\"Esquadrao suicida\",\"O espetacular Homem aranha\",\"Quebrando regras\",\"It a coisa\",\"O filho do Maskara\",\"gente Grande 2\",\"Coringa\"]\n",
    "print(filme)\n",
    "print(filme[0])\n",
    "print(filme[3])\n",
    "filme[7]=\"Pica-pau\"\n",
    "print(filme)\n",
    "filme.append(\"Todo poderoso\")\n",
    "print(filme)\n",
    "filme[5]=\"Batmam\"\n",
    "print(filme)\n",
    "filme.pop(0)\n",
    "print(filme)\n",
    "filme.pop()\n",
    "print(filme)\n",
    "print(filme[0:3])\n",
    "print(filme[-4:])\n",
    "print(len(filme))\n",
    "filme.reverse()\n",
    "print(filme)\n"
   ]
  },
  {
   "cell_type": "markdown",
   "metadata": {},
   "source": [
    "2. Crie uma lista com os 20 times do campeonato brasileiro de futebol\n",
    "• Exiba o primeiro time da lista como campeão\n",
    "• Exiba os 4 primeiros times como que irão jogar a libertadores\n",
    "• Exiba os 4 últimos times como os que estão rebaixados para a série B"
   ]
  },
  {
   "cell_type": "code",
   "execution_count": 31,
   "metadata": {},
   "outputs": [
    {
     "name": "stdout",
     "output_type": "stream",
     "text": [
      "20\n",
      "corinthias  é campeao\n",
      "['corinthias', 'palmeras', 'Athletico Minieiro', 'BotaFogo'] vao jogar a liberta\n",
      "['Cuiaba', 'Criciuma', 'Portuguesa', 'Santos'] Estao rebaixados kkkkkkkkkkkkkkkkkkkkkkkkkk🤣😂😁😀🤣🤣🤣🤣🤣🤣🤣🤣🤣🤣🤣🤣🤣🤣🤣🤣🤣🤣🤣🤣🤣🤣🤣🤣🤣🤣🤣🤣🤣🤣🤣\n"
     ]
    }
   ],
   "source": [
    "times=[\"corinthias\",\"palmeras\",\"Athletico Minieiro\",\"BotaFogo\",\"Vasco\",\"Gremio\",\"intenacional\",\"Bahia\",\"Flamengo\",\"Fortaleza\",\"Goias\",\"Guarani\",\"Junvetude\",\"Sao paulo\",\"Fortaleza\",\"Vitória\",\"Cuiaba\",\"Criciuma\",\"Portuguesa\",\"Santos\"]\n",
    "print(len(times))\n",
    "print(times[0],\" é campeao\")\n",
    "print(times[0:4], \"vao jogar a liberta\")\n",
    "print(times[-4:],\"Estao rebaixados kkkkkkkkkkkkkkkkkkkkkkkkkk🤣😂😁😀🤣🤣🤣🤣🤣🤣🤣🤣🤣🤣🤣🤣🤣🤣🤣🤣🤣🤣🤣🤣🤣🤣🤣🤣🤣🤣🤣🤣🤣🤣🤣\")"
   ]
  }
 ],
 "metadata": {
  "kernelspec": {
   "display_name": "Python 3",
   "language": "python",
   "name": "python3"
  },
  "language_info": {
   "codemirror_mode": {
    "name": "ipython",
    "version": 3
   },
   "file_extension": ".py",
   "mimetype": "text/x-python",
   "name": "python",
   "nbconvert_exporter": "python",
   "pygments_lexer": "ipython3",
   "version": "3.12.3"
  }
 },
 "nbformat": 4,
 "nbformat_minor": 2
}
