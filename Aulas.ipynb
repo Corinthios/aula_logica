{
 "cells": [
  {
   "cell_type": "markdown",
   "metadata": {},
   "source": [
    "aula15/02/2024> comando de saida/tipos de saida/tipos de dados/operaçoes aritimeticas"
   ]
  },
  {
   "cell_type": "code",
   "execution_count": 10,
   "metadata": {},
   "outputs": [
    {
     "name": "stdout",
     "output_type": "stream",
     "text": [
      "Ola Mundoooooooooooooooooooooooooooooooooooooooooooooo\n",
      "meu primeiro codigo python.usando aspas\n",
      "meu primeiro codigo python.usando aspas\n",
      "123\n",
      "True\n",
      "14\n",
      "86\n",
      "14\n",
      "strngs 10 7.5 -12\n",
      "68\n",
      "-30\n",
      "287289\n",
      "0.010800070989044083\n",
      "0\n",
      "27\n",
      "11.0\n"
     ]
    }
   ],
   "source": [
    "#este é meu primeiro codigo \n",
    "print(\"Ola Mundoooooooooooooooooooooooooooooooooooooooooooooo\") \n",
    "print(\"meu primeiro codigo python.usando aspas\")\n",
    "print(\"meu primeiro codigo python.usando aspas\") \n",
    "#para duplicar e copiar a linha usei shift + alt + seta pra baixo \n",
    "print('123') \n",
    "print('True')\n",
    "print(8+6) \n",
    "print('8'+'6') \n",
    "print(8       +    6) \n",
    "print(\"strngs\" ,10 ,7.5 ,-12 )\n",
    "#usando avirgula posso escrever  varios print de uma vez só \n",
    "\n",
    "print(18 + 50 ) # o sinal de + é o operdor da conta \n",
    "print(13-43)  # o sinal de - é operador da conta \n",
    "print(233*1233) # o sinal * é operador da conta \n",
    "print(133333/12345567) # o sinal / é operador da conta \n",
    "print(0%2) # o sinal % é o operador da conta\n",
    "print(3**3) \n",
    "print(8 +6/ 2)\n",
    "\n"
   ]
  },
  {
   "cell_type": "markdown",
   "metadata": {},
   "source": [
    "aula22/02/2024  - comandos de entrada (input) /variaves/pseudecologo"
   ]
  },
  {
   "cell_type": "code",
   "execution_count": 11,
   "metadata": {},
   "outputs": [
    {
     "name": "stdout",
     "output_type": "stream",
     "text": [
      "desenvolvimento de sistemas\n",
      "ola marcos voce tem 15 ANOS hj ta fazendo 23.5 °c\n",
      "15\n",
      "oi 9vinha ●'◡'●\n",
      "😂😊😍❤️❤️❤️❤️❤️❤️❤️❤️❤️❤️❤️❤️❤️❤️❤️❤️❤️😘👌😒🚬🚬🚬\n",
      "vc é o 10 com 123 kg tendo 123.0 anos\n",
      "<class 'str'> <class 'float'> <class 'int'>\n"
     ]
    }
   ],
   "source": [
    "curso='desenvolvimento de sistemas'\n",
    "#receba o texto desenvolvimento desistemas \n",
    "print(curso) \n",
    "#exibe o valor amarzenado \n",
    "idade=15 \n",
    "temperatura=23.5 \n",
    "nome=\"marcos\"\n",
    "print(\"ola\",nome,\"voce tem\",idade,'ANOS',\"hj ta fazendo\",temperatura,'°c')\n",
    "chovendo=False \n",
    "dia=True \n",
    "#declarando variaveis logica \n",
    "ruta=15 \n",
    "print(ruta) \n",
    "print(\"oi 9vinha\",\"●'◡'●\")\n",
    "#para \n",
    "pi=3.1415 \n",
    "print(\"😂😊😍❤️❤️❤️❤️❤️❤️❤️❤️❤️❤️❤️❤️❤️❤️❤️❤️❤️😘👌😒🚬🚬🚬\") \n",
    "\n",
    "#receber o nome da pesoa a idade e o peso e depois exebir tudouzando print\n",
    "nome=input(\"qual é o seu nome\")\n",
    "peso=int(input(\"qual é seu peso\"))\n",
    "idade=float(input(\"qual a sua idade\"))\n",
    "print('vc é o',nome,\"com\",peso,'kg','tendo',idade,'anos')\n",
    "#exibindo os tipos das variaveis ]\n",
    "#tudo que recebemos do implante é do tipo string\n",
    "print(type(nome),type(idade),type(peso))\n",
    "idade=int(input())\n",
    "\n",
    "\n",
    "\n",
    "\n",
    "\n",
    "\n"
   ]
  },
  {
   "cell_type": "markdown",
   "metadata": {},
   "source": [
    "23/02/2024 operacoes variaveis "
   ]
  },
  {
   "cell_type": "code",
   "execution_count": 12,
   "metadata": {},
   "outputs": [],
   "source": [
    "#receber o 1 numero \n",
    "#receber o 2 numero \n",
    "# somar o 1 + o 2 numero \n",
    "# exebir o resutado \n",
    "numero1=float(input(\"digeto o primeiro numeiro\"))\n",
    "numero2=float(input(\"digite o segundo numero\")) \n",
    "numero3=float(input(\"coloque o numero3\"))\n",
    "soma=(numero1+numero2*numero3)\n",
    "print(soma) \n",
    "\n",
    "\n",
    "\n",
    "\n"
   ]
  },
  {
   "cell_type": "code",
   "execution_count": null,
   "metadata": {},
   "outputs": [
    {
     "name": "stdout",
     "output_type": "stream",
     "text": [
      "16.0\n"
     ]
    }
   ],
   "source": [
    "numero=float(input(\"digite o  numero\"))\n",
    "numero4=float(input(\"digite o quarto numero\"))\n",
    "resultado2=(numero*numero4) \n",
    " \n",
    "\n",
    "\n"
   ]
  },
  {
   "cell_type": "code",
   "execution_count": null,
   "metadata": {},
   "outputs": [
    {
     "name": "stdout",
     "output_type": "stream",
     "text": [
      "0.0\n"
     ]
    }
   ],
   "source": [
    "numero=float(input(\"receba o preco do celucar\"))\n",
    "desconto=float(input(\"receber o valor do desconto\"))\n",
    "resultado2=numero-desconto\n",
    "print(resultado2) \n"
   ]
  },
  {
   "cell_type": "code",
   "execution_count": null,
   "metadata": {},
   "outputs": [
    {
     "name": "stdout",
     "output_type": "stream",
     "text": [
      "0\n",
      "o valor final é 0\n"
     ]
    }
   ],
   "source": [
    "numero=4-4 \n",
    "numero=numero**2 \n",
    "numero=numero*(50-20)\n",
    "print(numero) \n",
    "print(F\"o valor final é {numero}\")"
   ]
  },
  {
   "cell_type": "code",
   "execution_count": null,
   "metadata": {},
   "outputs": [
    {
     "name": "stdout",
     "output_type": "stream",
     "text": [
      "12000\n"
     ]
    }
   ],
   "source": [
    "hora = 8\n",
    "dia = 15\n",
    "preco = 100\n",
    "hora = hora * dia\n",
    "resultado = hora * preco\n",
    "print(resultado) \n"
   ]
  },
  {
   "cell_type": "code",
   "execution_count": null,
   "metadata": {},
   "outputs": [],
   "source": [
    "hora=float(input(\" quantas horas?\"))\n",
    "dia=float(input(\"quantos dias?\"))\n",
    "preco=float(input(\"teu preco \"))\n",
    "\n",
    "\n",
    "\n",
    "\n",
    "\n",
    "\n",
    "\n"
   ]
  },
  {
   "cell_type": "markdown",
   "metadata": {},
   "source": [
    "29/02/2024_ Operadores relacionadoseestruturas condicional "
   ]
  },
  {
   "cell_type": "code",
   "execution_count": null,
   "metadata": {},
   "outputs": [
    {
     "name": "stdout",
     "output_type": "stream",
     "text": [
      "a>b?False\n",
      "a=b?False\n",
      "a!=b?True\n"
     ]
    }
   ],
   "source": [
    "a=2 \n",
    "b=3\n",
    "print(f\"a>b?{a>b}\")\n",
    "print(f\"a=b?{a==b}\")\n",
    "print(f\"a!=b?{a!=b}\")"
   ]
  },
  {
   "cell_type": "code",
   "execution_count": null,
   "metadata": {},
   "outputs": [
    {
     "name": "stdout",
     "output_type": "stream",
     "text": [
      "vá embora\n",
      "fim\n"
     ]
    }
   ],
   "source": [
    "tenho_ingreso= True\n",
    "if tenho_ingreso==True: \n",
    " print('posso entrar')\n",
    "else : \n",
    " print(\"vá embora\")\n",
    " print(\"fim\")"
   ]
  },
  {
   "cell_type": "code",
   "execution_count": null,
   "metadata": {},
   "outputs": [
    {
     "name": "stdout",
     "output_type": "stream",
     "text": [
      "fim\n"
     ]
    }
   ],
   "source": [
    "#receber o valor da idade\n",
    "idade = int(input(\"qual sua idade\"))\n",
    "#verificar se é maior ou igual a 18 então\n",
    "if idade >= 18 :\n",
    "# se for exibir \"maior idade\"\n",
    "    print(\"maior de idade\")\n",
    "print(\"fim\")"
   ]
  },
  {
   "cell_type": "markdown",
   "metadata": {},
   "source": [
    "01/03/2024-Operadores logicos e estrutara condicional"
   ]
  },
  {
   "cell_type": "code",
   "execution_count": null,
   "metadata": {},
   "outputs": [],
   "source": []
  },
  {
   "cell_type": "code",
   "execution_count": null,
   "metadata": {},
   "outputs": [
    {
     "name": "stdout",
     "output_type": "stream",
     "text": [
      "False\n",
      "False\n",
      "False\n",
      "False\n"
     ]
    }
   ],
   "source": [
    "a=2\n",
    "b=3 \n",
    "c=5 \n",
    "print((a >2)and(b<2))\n",
    "print((a >2)or(b<2))\n",
    "print((a >2)or(b<2))\n",
    "idade=int(input(\"sua idade\"))\n",
    "print(idade>18 or idade==18) "
   ]
  },
  {
   "cell_type": "markdown",
   "metadata": {},
   "source": [
    "Desenvolva um programa que receba o valor de 3 lados de um triângulo e verifique se pode formar um triângulo"
   ]
  },
  {
   "cell_type": "code",
   "execution_count": null,
   "metadata": {},
   "outputs": [
    {
     "name": "stdout",
     "output_type": "stream",
     "text": [
      "abaixo do peso\n"
     ]
    }
   ],
   "source": [
    "altura=float(input('digite sua altura'))\n",
    "peso=float(input(\"digite seu peso\"))\n",
    "imc=peso/(altura**2)\n",
    "if imc <18.5:\n",
    "    print(\"abaixo do peso\")\n",
    "elif imc>=18.6 and imc<=24.9:\n",
    "    print(\"peso ideal\")\n",
    "elif imc >=25 and imc <=29.9:\n",
    "    print('sobrepeso')\n",
    "else:\n",
    "    print(\"obesa🍔🍔🍔🍔🍔🍔🍔🍔🍔🍔🍔🍔🍔🍔🍔🍔🍔🍔🍔🍔\")\n",
    "    \n",
    "\n"
   ]
  },
  {
   "cell_type": "code",
   "execution_count": null,
   "metadata": {},
   "outputs": [
    {
     "name": "stdout",
     "output_type": "stream",
     "text": [
      "trangulo equilátero\n"
     ]
    }
   ],
   "source": [
    "lado1=input('lado 1')\n",
    "lado2=input('lado 2')\n",
    "lado3=input('lado 3')\n",
    "if (lado1==lado2)and(lado2==lado3):\n",
    "    print(\"trangulo equilátero\")\n",
    "elif (lado1!=lado2)and(lado2!=lado3)and(lado1!=lado3):\n",
    "    print(\"escaleno\")\n",
    "else: \n",
    "    print(\"triangulo isósceles\")"
   ]
  },
  {
   "cell_type": "code",
   "execution_count": null,
   "metadata": {},
   "outputs": [],
   "source": [
    "letra=input(\"digite sua letra\")\n",
    "if letra=='a' or letra=='e' or letra=='i' or letra=='u':\n",
    "    print(f'a letra {letra} uma vogal')\n",
    "elif letra=='1' or letra=='2' or letra==\"3\" : \n",
    "    print(f'a letra{letra} é um numero') \n",
    "else:\n",
    "    print(f\"a letra {letra} nao é uma vogal\")"
   ]
  },
  {
   "cell_type": "markdown",
   "metadata": {},
   "source": [
    "08/03/2024- Laço de repetiçao - while"
   ]
  },
  {
   "cell_type": "code",
   "execution_count": 2,
   "metadata": {},
   "outputs": [
    {
     "name": "stdout",
     "output_type": "stream",
     "text": [
      "eu amo as mulheres 💓💓💓💓💓💓💓💓 1\n",
      "eu amo as mulheres 💓💓💓💓💓💓💓💓 2\n",
      "eu amo as mulheres 💓💓💓💓💓💓💓💓 3\n",
      "eu amo as mulheres 💓💓💓💓💓💓💓💓 4\n",
      "eu amo as mulheres 💓💓💓💓💓💓💓💓 5\n",
      "eu amo as mulheres 💓💓💓💓💓💓💓💓 6\n",
      "eu amo as mulheres 💓💓💓💓💓💓💓💓 7\n",
      "eu amo as mulheres 💓💓💓💓💓💓💓💓 8\n",
      "eu amo as mulheres 💓💓💓💓💓💓💓💓 9\n",
      "eu amo as mulheres 💓💓💓💓💓💓💓💓 10\n",
      "eu amo as mulheres 💓💓💓💓💓💓💓💓 11\n",
      "eu amo as mulheres 💓💓💓💓💓💓💓💓 12\n",
      "eu amo as mulheres 💓💓💓💓💓💓💓💓 13\n",
      "eu amo as mulheres 💓💓💓💓💓💓💓💓 14\n",
      "eu amo as mulheres 💓💓💓💓💓💓💓💓 15\n",
      "eu amo as mulheres 💓💓💓💓💓💓💓💓 16\n",
      "eu amo as mulheres 💓💓💓💓💓💓💓💓 17\n",
      "eu amo as mulheres 💓💓💓💓💓💓💓💓 18\n",
      "eu amo as mulheres 💓💓💓💓💓💓💓💓 19\n",
      "eu amo as mulheres 💓💓💓💓💓💓💓💓 20\n",
      "eu amo as mulheres 💓💓💓💓💓💓💓💓 21\n",
      "eu amo as mulheres 💓💓💓💓💓💓💓💓 22\n",
      "eu amo as mulheres 💓💓💓💓💓💓💓💓 23\n",
      "eu amo as mulheres 💓💓💓💓💓💓💓💓 24\n",
      "eu amo as mulheres 💓💓💓💓💓💓💓💓 25\n",
      "eu amo as mulheres 💓💓💓💓💓💓💓💓 26\n",
      "eu amo as mulheres 💓💓💓💓💓💓💓💓 27\n",
      "eu amo as mulheres 💓💓💓💓💓💓💓💓 28\n",
      "eu amo as mulheres 💓💓💓💓💓💓💓💓 29\n",
      "eu amo as mulheres 💓💓💓💓💓💓💓💓 30\n",
      "eu amo as mulheres 💓💓💓💓💓💓💓💓 31\n",
      "eu amo as mulheres 💓💓💓💓💓💓💓💓 32\n",
      "eu amo as mulheres 💓💓💓💓💓💓💓💓 33\n",
      "eu amo as mulheres 💓💓💓💓💓💓💓💓 34\n",
      "eu amo as mulheres 💓💓💓💓💓💓💓💓 35\n",
      "eu amo as mulheres 💓💓💓💓💓💓💓💓 36\n",
      "eu amo as mulheres 💓💓💓💓💓💓💓💓 37\n",
      "eu amo as mulheres 💓💓💓💓💓💓💓💓 38\n",
      "eu amo as mulheres 💓💓💓💓💓💓💓💓 39\n",
      "eu amo as mulheres 💓💓💓💓💓💓💓💓 40\n",
      "eu amo as mulheres 💓💓💓💓💓💓💓💓 41\n",
      "eu amo as mulheres 💓💓💓💓💓💓💓💓 42\n",
      "eu amo as mulheres 💓💓💓💓💓💓💓💓 43\n",
      "eu amo as mulheres 💓💓💓💓💓💓💓💓 44\n",
      "eu amo as mulheres 💓💓💓💓💓💓💓💓 45\n",
      "eu amo as mulheres 💓💓💓💓💓💓💓💓 46\n",
      "eu amo as mulheres 💓💓💓💓💓💓💓💓 47\n",
      "eu amo as mulheres 💓💓💓💓💓💓💓💓 48\n",
      "eu amo as mulheres 💓💓💓💓💓💓💓💓 49\n",
      "eu amo as mulheres 💓💓💓💓💓💓💓💓 50\n",
      "eu amo as mulheres 💓💓💓💓💓💓💓💓 51\n",
      "eu amo as mulheres 💓💓💓💓💓💓💓💓 52\n",
      "eu amo as mulheres 💓💓💓💓💓💓💓💓 53\n",
      "eu amo as mulheres 💓💓💓💓💓💓💓💓 54\n",
      "eu amo as mulheres 💓💓💓💓💓💓💓💓 55\n",
      "eu amo as mulheres 💓💓💓💓💓💓💓💓 56\n",
      "eu amo as mulheres 💓💓💓💓💓💓💓💓 57\n",
      "eu amo as mulheres 💓💓💓💓💓💓💓💓 58\n",
      "eu amo as mulheres 💓💓💓💓💓💓💓💓 59\n",
      "eu amo as mulheres 💓💓💓💓💓💓💓💓 60\n",
      "eu amo as mulheres 💓💓💓💓💓💓💓💓 61\n",
      "eu amo as mulheres 💓💓💓💓💓💓💓💓 62\n",
      "eu amo as mulheres 💓💓💓💓💓💓💓💓 63\n",
      "eu amo as mulheres 💓💓💓💓💓💓💓💓 64\n",
      "eu amo as mulheres 💓💓💓💓💓💓💓💓 65\n",
      "eu amo as mulheres 💓💓💓💓💓💓💓💓 66\n",
      "eu amo as mulheres 💓💓💓💓💓💓💓💓 67\n",
      "eu amo as mulheres 💓💓💓💓💓💓💓💓 68\n",
      "eu amo as mulheres 💓💓💓💓💓💓💓💓 69\n",
      "eu amo as mulheres 💓💓💓💓💓💓💓💓 70\n",
      "eu amo as mulheres 💓💓💓💓💓💓💓💓 71\n",
      "eu amo as mulheres 💓💓💓💓💓💓💓💓 72\n",
      "eu amo as mulheres 💓💓💓💓💓💓💓💓 73\n",
      "eu amo as mulheres 💓💓💓💓💓💓💓💓 74\n",
      "eu amo as mulheres 💓💓💓💓💓💓💓💓 75\n",
      "eu amo as mulheres 💓💓💓💓💓💓💓💓 76\n",
      "eu amo as mulheres 💓💓💓💓💓💓💓💓 77\n",
      "eu amo as mulheres 💓💓💓💓💓💓💓💓 78\n",
      "eu amo as mulheres 💓💓💓💓💓💓💓💓 79\n",
      "eu amo as mulheres 💓💓💓💓💓💓💓💓 80\n",
      "eu amo as mulheres 💓💓💓💓💓💓💓💓 81\n",
      "eu amo as mulheres 💓💓💓💓💓💓💓💓 82\n",
      "eu amo as mulheres 💓💓💓💓💓💓💓💓 83\n",
      "eu amo as mulheres 💓💓💓💓💓💓💓💓 84\n",
      "eu amo as mulheres 💓💓💓💓💓💓💓💓 85\n",
      "eu amo as mulheres 💓💓💓💓💓💓💓💓 86\n",
      "eu amo as mulheres 💓💓💓💓💓💓💓💓 87\n",
      "eu amo as mulheres 💓💓💓💓💓💓💓💓 88\n",
      "eu amo as mulheres 💓💓💓💓💓💓💓💓 89\n",
      "eu amo as mulheres 💓💓💓💓💓💓💓💓 90\n",
      "eu amo as mulheres 💓💓💓💓💓💓💓💓 91\n",
      "eu amo as mulheres 💓💓💓💓💓💓💓💓 92\n",
      "eu amo as mulheres 💓💓💓💓💓💓💓💓 93\n",
      "eu amo as mulheres 💓💓💓💓💓💓💓💓 94\n",
      "eu amo as mulheres 💓💓💓💓💓💓💓💓 95\n",
      "eu amo as mulheres 💓💓💓💓💓💓💓💓 96\n",
      "eu amo as mulheres 💓💓💓💓💓💓💓💓 97\n",
      "eu amo as mulheres 💓💓💓💓💓💓💓💓 98\n",
      "eu amo as mulheres 💓💓💓💓💓💓💓💓 99\n",
      "eu amo as mulheres 💓💓💓💓💓💓💓💓 100\n",
      "FIM\n"
     ]
    }
   ],
   "source": [
    "x= 1\n",
    "while x <= 100:\n",
    "    print('eu amo as mulheres 💓💓💓💓💓💓💓💓', x)\n",
    "    x = x + 1\n",
    "print ('FIM')"
   ]
  },
  {
   "cell_type": "code",
   "execution_count": 9,
   "metadata": {},
   "outputs": [
    {
     "name": "stdout",
     "output_type": "stream",
     "text": [
      "10\n",
      "9\n",
      "8\n",
      "7\n",
      "6\n",
      "5\n",
      "4\n",
      "3\n",
      "2\n",
      "1\n",
      "0\n",
      "FIM\n"
     ]
    }
   ],
   "source": [
    "import time\n",
    "x = 10\n",
    "while x >= 0:\n",
    "    print( x)\n",
    "    time.sleep(0.5)\n",
    "    x = x - 1\n",
    "print ('FIM')"
   ]
  },
  {
   "cell_type": "code",
   "execution_count": null,
   "metadata": {},
   "outputs": [
    {
     "name": "stdout",
     "output_type": "stream",
     "text": [
      " Seja bem vindo, jhgjhjhjhjhhjhjhjhj4dstjhjghihkhjklk,\n",
      " Seja bem vindo, fodase\n",
      " Seja bem vindo, minha bunda\n",
      " Seja bem vindo, meu pal\n",
      " Seja bem vindo, sair\n"
     ]
    }
   ],
   "source": [
    "texto = ''\n",
    "\n",
    "while texto != 'sair' :\n",
    "    texto = input (\"Digite seu nome ('sair')(para terminar)\")\n",
    "    print (f' Seja bem vindo, {texto}')\n"
   ]
  },
  {
   "cell_type": "code",
   "execution_count": 1,
   "metadata": {},
   "outputs": [],
   "source": [
    "senha_senai=12345\n",
    "while True:\n",
    "    senha=input('qual a senha ? \"desisto\" para sair')\n",
    "    if senha==senha_senai:\n",
    "        print(\"Vc  hackeou a rede\")\n",
    "        break\n",
    "    if senha_senai==\"desisto\" :\n",
    "        break\n",
    "print ('FIM')\n"
   ]
  },
  {
   "cell_type": "markdown",
   "metadata": {},
   "source": [
    "21/03/24 - revisao do while "
   ]
  },
  {
   "cell_type": "code",
   "execution_count": 3,
   "metadata": {},
   "outputs": [
    {
     "name": "stdout",
     "output_type": "stream",
     "text": [
      "fim\n"
     ]
    }
   ],
   "source": [
    "respota=\"sim\"\n",
    "while respota==\"sim\":\n",
    "    respota=input(\"deseja continuar? [sim ou nao]\")\n",
    "\n",
    "print(\"fim\")\n"
   ]
  },
  {
   "cell_type": "code",
   "execution_count": 11,
   "metadata": {},
   "outputs": [
    {
     "name": "stdout",
     "output_type": "stream",
     "text": [
      "valor total R$70.00 vc comprou 4 produtos\n"
     ]
    }
   ],
   "source": [
    "soma=0\n",
    "quant=0\n",
    "while True:\n",
    "    valor= float(input(\"digite o valor que quiser[-1 para sair]\"))\n",
    "    if valor==-1:\n",
    "        break\n",
    "    soma=valor+soma\n",
    "    quant=quant+1\n",
    "print(f'valor total R${soma:.2f} vc comprou {quant} produtos')\n"
   ]
  },
  {
   "cell_type": "code",
   "execution_count": 12,
   "metadata": {},
   "outputs": [],
   "source": [
    "while True :\n",
    "    valor=float(input(\"digite o numero\"))\n",
    "    if valor==10 :\n",
    "        break \n",
    "    \n"
   ]
  },
  {
   "cell_type": "code",
   "execution_count": 2,
   "metadata": {},
   "outputs": [
    {
     "name": "stdout",
     "output_type": "stream",
     "text": [
      "====================================\n",
      "😎😎😎 o jogo da adivinhaçao👺👺👹🐱‍👤🐱‍👤🐱‍👤\n",
      "====================================\n",
      " vc chutou 12. tente um numero maior👆☝☝☝☝☝☝ \n",
      " vc chutou 30. tente um numero maior👆☝☝☝☝☝☝ \n",
      " vc chutou 50. tente um numero maior👆☝☝☝☝☝☝ \n",
      " vc chutou 60. tente um numero maior👆☝☝☝☝☝☝ \n",
      " vc chutou 60. tente um numero maior👆☝☝☝☝☝☝ \n",
      " vc chutou 70. tente um numero maior👆☝☝☝☝☝☝ \n",
      " vc chutou 80. tente um numero maior👆☝☝☝☝☝☝ \n",
      "voce chutou 90. tente um numero mais baixo👇👇👇👇👇\n",
      "voce chutou 89. tente um numero mais baixo👇👇👇👇👇\n",
      "voce chutou87. parabens vc acertou🤚🤚🤚🥶😱🥶🥵🥶🥵\n"
     ]
    }
   ],
   "source": [
    "#estou impotando a biblioteca de números aleatorios\n",
    "import random \n",
    "nesorteados= random.randint(1,100)\n",
    "\n",
    "print(\"====================================\")\n",
    "print(\"😎😎😎 o jogo da adivinhaçao👺👺👹🐱‍👤🐱‍👤🐱‍👤\")\n",
    "print(\"====================================\")\n",
    "acertou= False \n",
    "while acertou== False :\n",
    "    chute=int(input('😏 digite um numero entre 1 e 100'))\n",
    "    if chute ==nesorteados:\n",
    "        print(f\"voce chutou{chute}. parabens vc acertou🤚🤚🤚🥶😱🥶🥵🥶🥵\")\n",
    "        acertou=True\n",
    "    elif chute > nesorteados:\n",
    "        print(f\"voce chutou {chute}. tente um numero mais baixo👇👇👇👇👇\")\n",
    "    else:\n",
    "        print(f\" vc chutou {chute}. tente um numero maior👆☝☝☝☝☝☝ \")\n"
   ]
  },
  {
   "cell_type": "markdown",
   "metadata": {},
   "source": [
    "22/03/2024 for"
   ]
  },
  {
   "cell_type": "code",
   "execution_count": 1,
   "metadata": {},
   "outputs": [
    {
     "name": "stdout",
     "output_type": "stream",
     "text": [
      "numero2 é par\n",
      "numero4 é par\n",
      "numero6 é par\n",
      "numero8 é par\n",
      "numero10 é par\n",
      "numero12 é par\n",
      "numero14 é par\n",
      "numero16 é par\n",
      "numero18 é par\n",
      "numero20 é par\n"
     ]
    }
   ],
   "source": [
    "x=1\n",
    "while x <=20:\n",
    "    if x % 2 ==0:\n",
    "        print(f'numero{x} é par')\n",
    "    x=x+1"
   ]
  },
  {
   "cell_type": "code",
   "execution_count": 6,
   "metadata": {},
   "outputs": [
    {
     "name": "stdout",
     "output_type": "stream",
     "text": [
      "0\n",
      "1\n",
      "2\n"
     ]
    }
   ],
   "source": [
    "for x in range(3):\n",
    "  print(x)"
   ]
  },
  {
   "cell_type": "code",
   "execution_count": 1,
   "metadata": {},
   "outputs": [
    {
     "name": "stdout",
     "output_type": "stream",
     "text": [
      " entregando os notbook\n",
      "nao pegar o notebook 1\n",
      "nao pegar o notebook 2\n",
      "nao pegar o notebook 3\n",
      "pegue o notebook4\n",
      "pegue o mouse4\n",
      "lever o notebook até caua\n",
      "pegue o notebook5\n",
      "pegue o mouse5\n",
      "lever o notebook até feli\n"
     ]
    }
   ],
   "source": [
    "print(' entregando os notbook')\n",
    "for nr in range(12):\n",
    "    nr = nr+1 \n",
    "    nom=input(f\"quem é o n°{nr}\")\n",
    "    presente=input(f'o aluno(a){nom} veio para escola[s/n]')\n",
    "    if presente== 's':\n",
    "        print(f'pegue o notebook{nr}')\n",
    "        print(f'pegue o mouse{nr}')\n",
    "        print(f'lever o notebook até {nom}')\n",
    "    else:\n",
    "        print(f\"nao pegar o notebook {nr}\")\n",
    "            \n",
    "\n",
    "print('começa a aula ')\n"
   ]
  },
  {
   "cell_type": "code",
   "execution_count": 13,
   "metadata": {},
   "outputs": [
    {
     "name": "stdout",
     "output_type": "stream",
     "text": [
      "1\n",
      "3\n",
      "5\n",
      "7\n",
      "9\n",
      "11\n",
      "13\n",
      "15\n",
      "17\n",
      "19\n",
      "21\n",
      "23\n",
      "25\n",
      "27\n",
      "29\n",
      "31\n",
      "33\n",
      "35\n",
      "37\n",
      "39\n"
     ]
    }
   ],
   "source": [
    "for x in range(1,40,2):\n",
    "    print(x)"
   ]
  },
  {
   "cell_type": "code",
   "execution_count": 9,
   "metadata": {},
   "outputs": [
    {
     "name": "stdout",
     "output_type": "stream",
     "text": [
      "-8 x 0 = 0\n",
      "-8 x 1 = -8\n",
      "-8 x 2 = -16\n",
      "-8 x 3 = -24\n",
      "-8 x 4 = -32\n",
      "-8 x 5 = -40\n",
      "-8 x 6 = -48\n",
      "-8 x 7 = -56\n",
      "-8 x 8 = -64\n",
      "-8 x 9 = -72\n",
      "-8 x 10 = -80\n"
     ]
    }
   ],
   "source": [
    "n=int(input('numero'))\n",
    "for f in range(11):\n",
    "    print(f\"{n} x {f} = {f*n}\")"
   ]
  },
  {
   "cell_type": "code",
   "execution_count": 12,
   "metadata": {},
   "outputs": [
    {
     "name": "stdout",
     "output_type": "stream",
     "text": [
      "0\n",
      "1\n",
      "2\n",
      "3\n",
      "4\n",
      "5\n",
      "6\n",
      "7\n",
      "8\n",
      "9\n"
     ]
    }
   ],
   "source": [
    "for x in range (100):\n",
    "    if x ==10 :\n",
    "        break\n",
    "    print(x)"
   ]
  },
  {
   "cell_type": "markdown",
   "metadata": {},
   "source": [
    "lista"
   ]
  },
  {
   "cell_type": "code",
   "execution_count": 27,
   "metadata": {},
   "outputs": [
    {
     "name": "stdout",
     "output_type": "stream",
     "text": [
      "['maça', 'banana', 'uva', 'bife']\n",
      "banana\n",
      "[199, 'centime', True, 'mole é', 3.5]\n"
     ]
    }
   ],
   "source": [
    "fruta=[\"maça\",\"banana\",\"uva\",\"bife\"]\n",
    "(fruta)\n",
    "print(fruta[1])\n",
    "\n",
    "\n",
    "\n",
    "lista=[]\n",
    "\n",
    "numeros=[5,8,10,40,3]\n",
    "\n",
    "nomes=[\"papai\", \"farinha\", \"marquin delas\"] \n",
    "tanto_faz=[199,\"centime\",True,\"mole é\",3.5]\n",
    "print(tanto_faz)"
   ]
  },
  {
   "cell_type": "code",
   "execution_count": 1,
   "metadata": {},
   "outputs": [
    {
     "name": "stdout",
     "output_type": "stream",
     "text": [
      "['🍍', '🍌', '🍇', '🍉']\n",
      "['🍍', '🍌', '🍇', '🍉', '🍒']\n",
      "['🍍', '🍌', '🍓', '🍇', '🍉', '🍒']\n"
     ]
    }
   ],
   "source": [
    "fruta=[\"🍍\",\"🍌\",\"🍇\",\"🍎\"]\n",
    "fruta[3]=\"🍉\"\n",
    "print(fruta)\n",
    "\n",
    "\n",
    "fruta.append(\"🍒\")\n",
    "print(fruta)\n",
    "fruta.insert(2,\"🍓\")\n",
    "print(fruta)"
   ]
  },
  {
   "cell_type": "code",
   "execution_count": 30,
   "metadata": {},
   "outputs": [
    {
     "name": "stdout",
     "output_type": "stream",
     "text": [
      "['🍇', '🍌', '🍍', '🍎', '🍔', '🍕']\n"
     ]
    }
   ],
   "source": [
    "fruta=[\"🍍\",\"🍌\",\"🍇\",\"🍎\",\"🍕\",\"🍔\"]\n",
    "fruta.sort()\n",
    "print(fruta)\n"
   ]
  },
  {
   "cell_type": "markdown",
   "metadata": {},
   "source": [
    "aula 04/04/24- interaçao em lista"
   ]
  },
  {
   "cell_type": "code",
   "execution_count": 17,
   "metadata": {},
   "outputs": [
    {
     "name": "stdout",
     "output_type": "stream",
     "text": [
      "é uma vogal\n"
     ]
    }
   ],
   "source": [
    "vogais=[\"a\",\"e\",\"i\",\"o\",\"u\"]\n",
    "letra=input('informe um caracter')\n",
    "consoante=[\"b\",\"c\",\"d\",\"f\",\"g\",\"h\",\"j\",\"k\",\"l\",\"m\",\"n\",\"q\",\"r\",\"s\",\"t\",\"v\",\"w\",\"x\",\"y\",\"z\"]\n",
    "numeros=[\"0\",\"1\",\"2\",\"3\",\"4\",\"5\",\"6\",\"7\",\"8\",\"9\",\"10\"]\n",
    "if letra.lower() in vogais:\n",
    "    print(\"é uma vogal\")\n",
    "elif letra.lower() in consoante:\n",
    "    print(\"é uma consoante\")\n",
    "elif letra in numero:\n",
    "    print(\"é um numero\")\n",
    "else:\n",
    "    print(\"é um caracter especial\")\n"
   ]
  },
  {
   "cell_type": "code",
   "execution_count": 16,
   "metadata": {},
   "outputs": [
    {
     "name": "stdout",
     "output_type": "stream",
     "text": [
      "pelé\n",
      "cristiano ronaldo\n",
      "neymar\n",
      "Yure Alberto\n"
     ]
    }
   ],
   "source": [
    "osmaisfodas=[\"pelé👑\",\"cristiano ronaldo🦿🦾\",\"neymar🥶\",\"Yuri Alberto⚽💎⚽\"]\n",
    "for nome in osmaisfodas:\n",
    "    print(nome)\n",
    "    "
   ]
  },
  {
   "cell_type": "code",
   "execution_count": 18,
   "metadata": {},
   "outputs": [
    {
     "name": "stdout",
     "output_type": "stream",
     "text": [
      "4\n",
      "10\n",
      "12\n",
      "17\n",
      "26\n"
     ]
    }
   ],
   "source": [
    "listanumero=[4,6,2,5,9]\n",
    "soma=0\n",
    "for nr in listanumero:\n",
    "    soma=soma+nr \n",
    "    print(soma)"
   ]
  },
  {
   "cell_type": "code",
   "execution_count": 19,
   "metadata": {},
   "outputs": [
    {
     "name": "stdout",
     "output_type": "stream",
     "text": [
      "a fruta 🍎 está na posiçao 0\n",
      "a fruta 🍌 está na posiçao 1\n",
      "a fruta 🍍 está na posiçao 2\n",
      "a fruta 🍇 está na posiçao 3\n"
     ]
    }
   ],
   "source": [
    "listadefrutas=[\"🍎\",\"🍌\",\"🍍\",\"🍇\"]\n",
    "for pos,fruta in enumerate(listadefrutas):\n",
    "    print(f'a fruta {fruta} está na posiçao {pos}')"
   ]
  },
  {
   "cell_type": "code",
   "execution_count": 20,
   "metadata": {},
   "outputs": [
    {
     "name": "stdout",
     "output_type": "stream",
     "text": [
      "celular\n",
      "notbook\n",
      "tv\n",
      "tablet\n",
      "headset\n"
     ]
    }
   ],
   "source": [
    "produtos=\"celular,notbook,tv,tablet,headset\"\n",
    "lista=produtos.split(\",\")\n",
    "for produtos in  lista:\n",
    "    print(produtos)"
   ]
  },
  {
   "cell_type": "code",
   "execution_count": 21,
   "metadata": {},
   "outputs": [
    {
     "name": "stdout",
     "output_type": "stream",
     "text": [
      "s\n",
      "s\n",
      "i\n",
      "e\n",
      "s\n",
      "i\n",
      "n\n",
      "s\n",
      "i\n",
      "a\n",
      "s\n",
      "i\n",
      "i\n",
      "s\n",
      "i\n"
     ]
    }
   ],
   "source": [
    "palavra=\"senai\"\n",
    "for letra in palavra:\n",
    "    print(letra)\n",
    "    print(palavra[0])\n",
    "    print(palavra[-1])"
   ]
  },
  {
   "cell_type": "markdown",
   "metadata": {},
   "source": [
    "05/04/2024"
   ]
  },
  {
   "cell_type": "code",
   "execution_count": 8,
   "metadata": {},
   "outputs": [
    {
     "name": "stdout",
     "output_type": "stream",
     "text": [
      "1° sase\n",
      "2° sase\n",
      "3° sase\n",
      "4° sase\n"
     ]
    }
   ],
   "source": [
    "liatacomidas=[]\n",
    "while True:\n",
    "    comidas=input(\"Digitr uma comida que vc goste\")\n",
    "    liatacomidas.append(comidas)\n",
    "    eai=input(\"deseja continuar {S/N}\")\n",
    "    if eai in \"Nn\":\n",
    "        break \n",
    "\n",
    "for pos, comida in enumerate(comidas):\n",
    "    print(f\"{pos+1}° {comidas}\") "
   ]
  },
  {
   "cell_type": "markdown",
   "metadata": {},
   "source": [
    "11/04/24"
   ]
  },
  {
   "cell_type": "code",
   "execution_count": 1,
   "metadata": {},
   "outputs": [
    {
     "name": "stdout",
     "output_type": "stream",
     "text": [
      "--------------------\n",
      "sesi/senai\n",
      "--------------------\n"
     ]
    }
   ],
   "source": [
    "print('-'*20)\n",
    "print('sesi/senai')\n",
    "print('-'*20)"
   ]
  },
  {
   "cell_type": "code",
   "execution_count": 4,
   "metadata": {},
   "outputs": [
    {
     "name": "stdout",
     "output_type": "stream",
     "text": [
      "--------------------\n",
      "sesi/senai\n",
      "--------------------\n"
     ]
    }
   ],
   "source": [
    "def linha():\n",
    "    print(\"-\"*20)\n",
    "\n",
    "linha()\n",
    "print(\"sesi/senai\")\n",
    "linha()"
   ]
  },
  {
   "cell_type": "code",
   "execution_count": 8,
   "metadata": {},
   "outputs": [
    {
     "name": "stdout",
     "output_type": "stream",
     "text": [
      "--------------------\n",
      "sesi/senai\n",
      "--------------------\n"
     ]
    }
   ],
   "source": [
    "def cabeçalhoa():\n",
    "    print('-'*20)\n",
    "    print('sesi/senai')\n",
    "    print('-'*20)\n",
    "\n",
    "cabeçalhoa()\n"
   ]
  },
  {
   "cell_type": "code",
   "execution_count": 9,
   "metadata": {},
   "outputs": [
    {
     "name": "stdout",
     "output_type": "stream",
     "text": [
      "--------------------\n",
      "sesi/senai\n",
      "--------------------\n"
     ]
    }
   ],
   "source": [
    "def linha():\n",
    "    print('-'*20)\n",
    "     \n",
    "    def cabeçalhoa():\n",
    "        linha()\n",
    "        print('sesi/senai')\n",
    "        linha()\n",
    "\n",
    "\n",
    "cabeçalhoa()"
   ]
  },
  {
   "cell_type": "code",
   "execution_count": 14,
   "metadata": {},
   "outputs": [
    {
     "name": "stdout",
     "output_type": "stream",
     "text": [
      "marsc tenha um bom dia\n",
      "fre tenha um bom dia\n",
      "fire tenha um bom dia\n"
     ]
    }
   ],
   "source": [
    "def saudaçao():\n",
    "    \n",
    "    nome= input(\"qual o seu nome\")\n",
    "    print(f\"{nome} tenha um bom dia\")\n",
    "saudaçao()\n",
    "saudaçao()\n",
    "saudaçao()"
   ]
  },
  {
   "cell_type": "code",
   "execution_count": 16,
   "metadata": {},
   "outputs": [
    {
     "name": "stdout",
     "output_type": "stream",
     "text": [
      "marcs tenha um bom dia\n",
      "veio  tenha um bom dia\n",
      "comer  tenha um bom dia\n"
     ]
    }
   ],
   "source": [
    "def saudaçao():\n",
    "    \n",
    "    nome=input(\"qual o seu nome\")\n",
    "    print(f\"{nome} tenha um bom dia\")\n",
    "for n in range(3):\n",
    "    saudaçao()"
   ]
  },
  {
   "cell_type": "code",
   "execution_count": 21,
   "metadata": {},
   "outputs": [
    {
     "name": "stdout",
     "output_type": "stream",
     "text": [
      "--------------------\n",
      "texto\n",
      "--------------------\n"
     ]
    }
   ],
   "source": [
    "def cabeçalhoa(texto):\n",
    "        print(\"-\"*20)\n",
    "        print(\"texto\")\n",
    "        print(\"-\"*20)\n",
    "\n",
    "\n",
    "cabeçalhoa('escola')"
   ]
  },
  {
   "cell_type": "code",
   "execution_count": 23,
   "metadata": {},
   "outputs": [
    {
     "name": "stdout",
     "output_type": "stream",
     "text": [
      "a soma de 12 + 2 é 14\n"
     ]
    }
   ],
   "source": [
    "def soma(n1,n2):\n",
    "    resp=n1+n2\n",
    "    print(f\"a soma de {n1} + {n2} é {resp}\")\n",
    "soma(12,2)"
   ]
  },
  {
   "cell_type": "code",
   "execution_count": 30,
   "metadata": {},
   "outputs": [
    {
     "name": "stdout",
     "output_type": "stream",
     "text": [
      "é impar\n",
      "é par\n"
     ]
    }
   ],
   "source": [
    "def parinpar(n1):\n",
    "    if n1%2==0:\n",
    "        print(\"é par\")\n",
    "    else:\n",
    "        print(\"é impar\")\n",
    "        \n",
    "for n in range(2):\n",
    "    parinpar(int(input(\"digite seu numero\")))\n"
   ]
  },
  {
   "cell_type": "code",
   "execution_count": 1,
   "metadata": {},
   "outputs": [
    {
     "name": "stdout",
     "output_type": "stream",
     "text": [
      "9.0\n"
     ]
    }
   ],
   "source": [
    "def media(n1,n2):\n",
    "    resp=(n1 +n2)/2\n",
    "    return(resp)\n",
    "resultado_media=media(10,8)\n",
    "print(resultado_media)"
   ]
  },
  {
   "cell_type": "code",
   "execution_count": 3,
   "metadata": {},
   "outputs": [
    {
     "name": "stdout",
     "output_type": "stream",
     "text": [
      "You have not typed a valid operator, please run the program again.\n",
      "See you later.\n"
     ]
    }
   ],
   "source": [
    "def calculate():\n",
    "    operation = input('''\n",
    "Please type in the math operation you would like to complete:\n",
    "+ for addition\n",
    "- for subtraction\n",
    "* for multiplication\n",
    "/ for division\n",
    "''')\n",
    "\n",
    "    number_1 = int(input('Please enter the first number: '))\n",
    "    number_2 = int(input('Please enter the second number: '))\n",
    "\n",
    "    if operation == '+':\n",
    "        print('{} + {} = '.format(number_1, number_2))\n",
    "        print(number_1 + number_2)\n",
    "\n",
    "    elif operation == '-':\n",
    "        print('{} - {} = '.format(number_1, number_2))\n",
    "        print(number_1 - number_2)\n",
    "\n",
    "    elif operation == '*':\n",
    "        print('{} * {} = '.format(number_1, number_2))\n",
    "        print(number_1 * number_2)\n",
    "\n",
    "    elif operation == '/':\n",
    "        print('{} / {} = '.format(number_1, number_2))\n",
    "        print(number_1 / number_2)\n",
    "\n",
    "    else:\n",
    "        print('You have not typed a valid operator, please run the program again.')\n",
    "\n",
    "    # Add again() function to calculate() function\n",
    "    again()\n",
    "\n",
    "def again():\n",
    "    calc_again = input('''\n",
    "Do you want to calculate again?\n",
    "Please type Y for YES or N for NO.\n",
    "''')\n",
    "\n",
    "    if calc_again.upper() == 'Y':\n",
    "        calculate()\n",
    "    elif calc_again.upper() == 'N':\n",
    "        print('See you later.')\n",
    "    else:\n",
    "        again()\n",
    "\n",
    "calculate()"
   ]
  },
  {
   "cell_type": "code",
   "execution_count": 7,
   "metadata": {},
   "outputs": [
    {
     "name": "stdout",
     "output_type": "stream",
     "text": [
      "10/5/2008\n",
      "15/9/2004\n",
      "12/3/2008\n"
     ]
    }
   ],
   "source": [
    "def formartar(n1,n2,n3):\n",
    "    resp =(f'{n1}/{n2}/{n3}')\n",
    "    return(resp)\n",
    "vali =formartar(10,5,2008)\n",
    "vafe=formartar(12,3,2008)\n",
    "gr=formartar(15,9,2004)\n",
    "print(vali)\n",
    "print(gr)\n",
    "print(vafe)\n",
    "    "
   ]
  },
  {
   "cell_type": "markdown",
   "metadata": {},
   "source": [
    "12/04/24- escorpo de variavel (variavel local e globlal)"
   ]
  },
  {
   "cell_type": "code",
   "execution_count": 3,
   "metadata": {},
   "outputs": [
    {
     "name": "stdout",
     "output_type": "stream",
     "text": [
      "valor ANTES da funçaoSENAI\n",
      "valor dentro da funçao escolasesi\n",
      "valor Depois da funçaoSENAI\n"
     ]
    }
   ],
   "source": [
    "def Nomeescola():\n",
    "    escola=\"sesi\"\n",
    "    print(f\"valor dentro da funçao escola{escola}\")\n",
    "\n",
    "escola=\"SENAI\"\n",
    "print(f\"valor ANTES da funçao{escola}\")\n",
    "Nomeescola()\n",
    "print(f\"valor Depois da funçao{escola}\")\n"
   ]
  },
  {
   "cell_type": "code",
   "execution_count": 4,
   "metadata": {},
   "outputs": [
    {
     "name": "stdout",
     "output_type": "stream",
     "text": [
      "senai\n"
     ]
    }
   ],
   "source": [
    "def nomeEscola():\n",
    "    global escola\n",
    "escola=\"senai\"\n",
    "print(escola)"
   ]
  },
  {
   "cell_type": "code",
   "execution_count": 5,
   "metadata": {},
   "outputs": [
    {
     "name": "stdout",
     "output_type": "stream",
     "text": [
      "forma da funçao 10\n",
      "dentro da funçao 1\n",
      "fpra da funçao 10\n"
     ]
    }
   ],
   "source": [
    "x=10 \n",
    "print('forma da funçao',x)\n",
    "\n",
    "\n",
    "\n",
    "def minhhafunçao():\n",
    "    x=0 \n",
    "    x=x+1\n",
    "    print('dentro da funçao',x)\n",
    "\n",
    "minhhafunçao()\n",
    "print(\"fpra da funçao\",x)"
   ]
  },
  {
   "cell_type": "code",
   "execution_count": 6,
   "metadata": {},
   "outputs": [
    {
     "name": "stdout",
     "output_type": "stream",
     "text": [
      "forma da funçao 10\n",
      "dentro da funçao 11\n",
      "fpra da funçao 11\n"
     ]
    }
   ],
   "source": [
    "x=10 \n",
    "print('forma da funçao',x)\n",
    "\n",
    "\n",
    "\n",
    "def minhhafunçao():\n",
    "    global x\n",
    "    x=x+1\n",
    "    print('dentro da funçao',x)\n",
    "minhhafunçao()\n",
    "print(\"fpra da funçao\",x)"
   ]
  }
 ],
 "metadata": {
  "kernelspec": {
   "display_name": "Python 3",
   "language": "python",
   "name": "python3"
  },
  "language_info": {
   "codemirror_mode": {
    "name": "ipython",
    "version": 3
   },
   "file_extension": ".py",
   "mimetype": "text/x-python",
   "name": "python",
   "nbconvert_exporter": "python",
   "pygments_lexer": "ipython3",
   "version": "3.12.3"
  }
 },
 "nbformat": 4,
 "nbformat_minor": 2
}
