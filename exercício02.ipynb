{
 "cells": [
  {
   "cell_type": "markdown",
   "metadata": {},
   "source": [
    "1"
   ]
  },
  {
   "cell_type": "code",
   "execution_count": 4,
   "metadata": {},
   "outputs": [
    {
     "name": "stdout",
     "output_type": "stream",
     "text": [
      "aprovado\n"
     ]
    }
   ],
   "source": [
    "n1 =float(input(\"digite a nota\"))\n",
    "n2 =float(input(\"digite a segunda nota\"))\n",
    "notafinal = (n1 + n2) / 2\n",
    "if notafinal < 7 :\n",
    "    print(\"reprovado\")\n",
    "else:\n",
    "    print(\"aprovado\")\n"
   ]
  },
  {
   "cell_type": "markdown",
   "metadata": {},
   "source": [
    "exercio 2"
   ]
  },
  {
   "cell_type": "code",
   "execution_count": 5,
   "metadata": {},
   "outputs": [
    {
     "name": "stdout",
     "output_type": "stream",
     "text": [
      "é menor \n"
     ]
    }
   ],
   "source": [
    "n1 = float(input(\"digite seu numero\"))\n",
    "n2 = float(input(\"digite segundo numero\"))\n",
    "if n1>n2 :\n",
    "    print(\"é maior que n2\")\n",
    "else:\n",
    "    print(\"é menor \")\n"
   ]
  },
  {
   "cell_type": "markdown",
   "metadata": {},
   "source": [
    "Exercio 3"
   ]
  },
  {
   "cell_type": "code",
   "execution_count": 28,
   "metadata": {},
   "outputs": [
    {
     "name": "stdout",
     "output_type": "stream",
     "text": [
      "par\n"
     ]
    }
   ],
   "source": [
    "n1=int(input(\"qual seu numero \"))\n",
    "if n1 %2==0 :\n",
    "    print(\"par\")\n",
    "else:\n",
    "    print(\"impar\")"
   ]
  },
  {
   "cell_type": "markdown",
   "metadata": {},
   "source": [
    "exercio4"
   ]
  },
  {
   "cell_type": "code",
   "execution_count": 29,
   "metadata": {},
   "outputs": [
    {
     "name": "stdout",
     "output_type": "stream",
     "text": [
      "positivo\n"
     ]
    }
   ],
   "source": [
    "n1=int(input(\"qual seu numero\"))\n",
    "if n1 > 0:\n",
    "    print(\"positivo\")\n",
    "else:\n",
    "    print(\"negativo\")"
   ]
  },
  {
   "cell_type": "markdown",
   "metadata": {},
   "source": [
    "Exercio 5"
   ]
  },
  {
   "cell_type": "code",
   "execution_count": 19,
   "metadata": {},
   "outputs": [
    {
     "name": "stdout",
     "output_type": "stream",
     "text": [
      "18.0\n",
      "blz\n"
     ]
    }
   ],
   "source": [
    "n1=float(input(\"que ano c naceu\"))\n",
    "idade=2024 - n1\n",
    "print(idade)\n",
    "if idade>=18 :\n",
    "    print(\"blz\")\n",
    "else: \n",
    "    print(\"nao pod\")"
   ]
  },
  {
   "cell_type": "markdown",
   "metadata": {},
   "source": [
    "Exercio6"
   ]
  },
  {
   "cell_type": "code",
   "execution_count": 21,
   "metadata": {},
   "outputs": [
    {
     "name": "stdout",
     "output_type": "stream",
     "text": [
      "nao sao iguais\n"
     ]
    }
   ],
   "source": [
    "numero=int(input(\"qual o seu numero\"))\n",
    "n2=int(input(\"qual seu 2 numero\"))\n",
    "if numero==n2:\n",
    "    print(\"sao iguais\")\n",
    "else:\n",
    "    print(\"nao sao iguais\")"
   ]
  },
  {
   "cell_type": "markdown",
   "metadata": {},
   "source": [
    "Exercio 7"
   ]
  },
  {
   "cell_type": "code",
   "execution_count": 19,
   "metadata": {},
   "outputs": [
    {
     "name": "stdout",
     "output_type": "stream",
     "text": [
      "sem multa\n"
     ]
    }
   ],
   "source": [
    "velocidade=float(input(\" sua velocidade\"))\n",
    "if velocidade>80:\n",
    "    taxa=velocidade-80\n",
    "    print(f\"sua velocidade utrapassou o limite de velocidade tera que pagar {taxa*7}R$\")\n",
    "else:\n",
    "    print(\"sem multa\")"
   ]
  },
  {
   "cell_type": "markdown",
   "metadata": {},
   "source": [
    "Escreva um programa que calcule o preço a ser pago por um produto considerando um desconto de 10% se o valor da compra for maior que R$ 100,00"
   ]
  },
  {
   "cell_type": "code",
   "execution_count": 1,
   "metadata": {},
   "outputs": [
    {
     "name": "stdout",
     "output_type": "stream",
     "text": [
      "sem desconto👌👌👌👌👌👌😒😒\n"
     ]
    }
   ],
   "source": [
    "reais=float(input(\"valor\"))\n",
    "if reais>100 :\n",
    "    print(f\"vc tera {reais/10:.2f} de desconto\")\n",
    "else:\n",
    "    print(\"sem desconto👌👌👌👌👌👌😒😒\")\n"
   ]
  }
 ],
 "metadata": {
  "kernelspec": {
   "display_name": "Python 3",
   "language": "python",
   "name": "python3"
  },
  "language_info": {
   "codemirror_mode": {
    "name": "ipython",
    "version": 3
   },
   "file_extension": ".py",
   "mimetype": "text/x-python",
   "name": "python",
   "nbconvert_exporter": "python",
   "pygments_lexer": "ipython3",
   "version": "3.12.2"
  }
 },
 "nbformat": 4,
 "nbformat_minor": 2
}
