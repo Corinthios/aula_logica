{
 "cells": [
  {
   "cell_type": "markdown",
   "metadata": {},
   "source": [
    " 1. Pede ao usuário para digitar um número de 1 a 7 e imprime o dia da semana correspondente."
   ]
  },
  {
   "cell_type": "code",
   "execution_count": 1,
   "metadata": {},
   "outputs": [
    {
     "name": "stdout",
     "output_type": "stream",
     "text": [
      "domingo\n",
      "vai trabalahar \n"
     ]
    }
   ],
   "source": [
    "semana=int(input(\"digite o numero\"))\n",
    "if semana ==1:\n",
    "    print(\"domingo\")\n",
    "elif semana==2:\n",
    "    print(\"segunda\")\n",
    "elif semana==3:\n",
    "    print(\"terça\")\n",
    "elif semana==4:\n",
    "    print(\"quarta\")\n",
    "elif semana==5:\n",
    "    print(\"quinta\")\n",
    "elif semana==6:\n",
    "    print(\"sexta\")\n",
    "elif semana==7:\n",
    "    print(\"sabado\")\n",
    "print(\"vai trabalahar \")\n",
    "\n",
    "\n",
    "    \n",
    "\n",
    "\n"
   ]
  },
  {
   "cell_type": "markdown",
   "metadata": {},
   "source": [
    "Pede ao usuário o ano atual e o ano de nascimento e verifique em qual faixa etária ele\n",
    "pertence considerando (abaixo de 10 é criança, de 11 a 17 adolescente, de 18 a 59 adulto,\n",
    "acima de 60 idoso)\n"
   ]
  },
  {
   "cell_type": "markdown",
   "metadata": {},
   "source": [
    "\n",
    "3. Pede ao usuário para digitar o nome de um mês e imprime o número de dias naquele"
   ]
  },
  {
   "cell_type": "code",
   "execution_count": 2,
   "metadata": {},
   "outputs": [],
   "source": [
    "mez = (input(\"Digite um mês \"))\n",
    "# Verifica o número e imprime o dia da semana correspondente\n",
    "if mez ==\"janeiro \" or mez==\"Janeiro\":\n",
    "      print(\"30, são os dias desse mês\")\n",
    "elif mez == \"fevereiro\"or mez==\"Fevereiro\":\n",
    "    print(\"28, são os dias desse mês\")\n",
    "elif mez == \"março\"or mez==\"Março\":\n",
    "    print(\"31, são os dias desse mês\")\n",
    "elif mez == \"abril\" or mez == \"Abril\":\n",
    "    print(\"30, são os dias desse mês\")\n",
    "elif mez == \"maio\" or mez ==\"Maio\":\n",
    "    print(\"31 ,são os dias desse mês\")\n",
    "elif mez == \"junho\" or mez ==\" Junho\":\n",
    "    print(\"30, são os dias desse mês\")\n",
    "elif mez == \"julho\" or mez=='Julho' :\n",
    "    print(\"31, são os dias desse mês\")\n",
    "elif mez == \"agosto\" or mez=='Agosto':\n",
    "    print(\"30, são os dias desse mês\")\n",
    "elif mez == \"setembro\" or mez==\"Setembro\":\n",
    "    print(\"31, são os dias desse mês\")  \n",
    "elif mez ==\"outubro\" or mez == \"Outubro\":\n",
    "    print(\"30, são os dias desse mês\")\n",
    "elif mez == \"novembro\" or mez==\"Novembro\":\n",
    "    print(\"31, são os dias desse mês\")\n",
    "elif mez == \"dezembro\" or mez == \"Dezembro\":\n",
    "    print(\"30, são os dias desse mês\")"
   ]
  },
  {
   "cell_type": "markdown",
   "metadata": {},
   "source": [
    "4. Pede ao usuário para digitar 2 notas e calcule sua média, e considere a média acima de 7\n",
    "aprovado, entre 5 e 7, em recuperação, abaixo de 5 reprovado."
   ]
  },
  {
   "cell_type": "code",
   "execution_count": null,
   "metadata": {},
   "outputs": [],
   "source": [
    "media1=float(input(\"qual o numero\")) \n",
    "media2=float(input(\"qual o numero\"))\n",
    "nota= media1-media2\n",
    "if  nota >7:\n",
    "    print(\"passou\")\n",
    "elif nota < 5:\n",
    "    print(\"reprovou☠️☠️☠️☠️☠️☠️☠️☠️\")  \n",
    "elif nota ==5 and nota <=7:\n",
    "    print('recuperaçao')"
   ]
  },
  {
   "cell_type": "markdown",
   "metadata": {},
   "source": [
    "Pede o salário do funcionário, e calcular o aumento que ele terá, considerando se ganhar até\n",
    "2000, reajuste de 12%, até 4000, reajuste de 10%, acima de 4000 reajuste de 8%, exibir o\n",
    "novo salário"
   ]
  },
  {
   "cell_type": "code",
   "execution_count": null,
   "metadata": {},
   "outputs": [],
   "source": [
    "salario=float(input(\"digite o salario\"))\n",
    "if salario <= 2000:\n",
    "    aumento= salario * 0.12\n",
    "elif salario <=4000:\n",
    "    aumento=salario*0.10\n",
    "else:\n",
    "    aumento= salario*0.8 \n",
    "print(f\"Seu novo salario é de{salario + aumento}\")\n",
    " \n"
   ]
  },
  {
   "cell_type": "markdown",
   "metadata": {},
   "source": [
    "Crie os algoritmos abaixo no arquivo Exercícios04.ipynb, cada enunciado em um Markdown\n",
    "e o Código em um Code\n",
    "Após finalizar, envie o arquivo Exercícios04.ipynb na aula 13. Escreva um programa que: ----------------------------------------------------------------------------------------------------------------------------------------------------------------------------------------------------------- 1. Peça o salário do funcionário e calcule o valor do IRPF e INSS do funcionário e quanto ele irá\n",
    "receber no final do mês, considerando a seguinte tabela:"
   ]
  },
  {
   "cell_type": "code",
   "execution_count": null,
   "metadata": {},
   "outputs": [],
   "source": [
    "salario = float (input (\"Digite o salário:\"))\n",
    "if salario <= 2259 :\n",
    "    descontoirpf = 0\n",
    "elif salario <= 2826.65 :\n",
    "    descontoirpf = salario * 0.075  \n",
    "elif salario <= 3751.05 :\n",
    "    descontoirpf = salario * 0.15  \n",
    "elif salario <= 4664.68 :\n",
    "    descontoirpf = salario * 0.225 \n",
    "else :\n",
    "    descontoirpf = salario * 0.275 \n",
    "\n",
    "#Considerando a tabela de INSS\n",
    "if salario <= 1412 :\n",
    "    descontoinss = salario * 0.075 \n",
    "elif salario <= 2666.68 :\n",
    "    descontoinss = salario * 0.09\n",
    "elif salario <= 4000.03 :\n",
    "    descontoinss = salario * 0.12 \n",
    "elif salario <= 7786.02 :\n",
    "    descontoinss = salario * 0.14\n",
    "else :\n",
    "    descontoinss = 908.85\n",
    "\n",
    "salarioliquido = salario - descontoirpf - descontoinss\n",
    "print (f' Seu salário líquido será: R$ {salarioliquido: .2f}')"
   ]
  }
 ],
 "metadata": {
  "kernelspec": {
   "display_name": "Python 3",
   "language": "python",
   "name": "python3"
  },
  "language_info": {
   "codemirror_mode": {
    "name": "ipython",
    "version": 3
   },
   "file_extension": ".py",
   "mimetype": "text/x-python",
   "name": "python",
   "nbconvert_exporter": "python",
   "pygments_lexer": "ipython3",
   "version": "3.12.3"
  }
 },
 "nbformat": 4,
 "nbformat_minor": 2
}
