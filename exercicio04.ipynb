{
 "cells": [
  {
   "cell_type": "markdown",
   "metadata": {},
   "source": [
    "Utilando o comando while para descobrir o numeros par de 1 a 20"
   ]
  },
  {
   "cell_type": "code",
   "execution_count": 21,
   "metadata": {},
   "outputs": [
    {
     "name": "stdout",
     "output_type": "stream",
     "text": [
      "numero2 é par\n",
      "numero4 é par\n",
      "numero6 é par\n",
      "numero8 é par\n",
      "numero10 é par\n",
      "numero12 é par\n",
      "numero14 é par\n",
      "numero16 é par\n",
      "numero18 é par\n",
      "numero20 é par\n"
     ]
    }
   ],
   "source": [
    "x=1\n",
    "while x <=20:\n",
    "    if x % 2 ==0:\n",
    "        print(f'numero{x} é par')\n",
    "    x=x+1"
   ]
  },
  {
   "cell_type": "markdown",
   "metadata": {},
   "source": [
    "2. Gere os 6 números do sorteio da mega-sena de forma aleatória."
   ]
  },
  {
   "cell_type": "code",
   "execution_count": null,
   "metadata": {},
   "outputs": [
    {
     "name": "stdout",
     "output_type": "stream",
     "text": [
      "os numeros sao 20 , 7, 38, 22, 36, 38,\n"
     ]
    }
   ],
   "source": [
    "import random \n",
    "nesorteados= random.randint(1,60)\n",
    "n0= random.randint(1,60)\n",
    "n1= random.randint(1,60)\n",
    "marcos= random.randint(1,60)\n",
    "n3= random.randint(1,60)\n",
    "n4= random.randint(1,60)\n",
    "print(f'os numeros sao {nesorteados} , {n0}, {n1}, {marcos}, {n3}, {n4},')"
   ]
  },
  {
   "cell_type": "code",
   "execution_count": 1,
   "metadata": {},
   "outputs": [],
   "source": [
    "import random \n",
    "x=1 \n",
    "while x <=20 :\n",
    "    nr=random.randint(1,20)\n",
    "    "
   ]
  },
  {
   "cell_type": "markdown",
   "metadata": {},
   "source": [
    "3 Receba alguns número e verifique a soma e a quantidade de todos os pares e ímpares\n",
    "digitados, digite 0 para não receber mais"
   ]
  },
  {
   "cell_type": "code",
   "execution_count": 1,
   "metadata": {},
   "outputs": [],
   "source": [
    "soma=0\n",
    "quant2=0\n",
    "quant3=0\n",
    "while True:soma=0\n",
    "quant2=0\n",
    "quant3=0\n",
    "while True:\n",
    "    nr= float(input(\"digite o valor que quiser[0 para sair]\"))\n",
    "    if nr==0:\n",
    "        break \n",
    "    if nr %2 ==0 :\n",
    "        quant2+=1\n",
    "    if nr%2!=0:\n",
    "        quant3+=1\n",
    "    soma+=nr\n",
    "\n",
    "print(f\"a soma é {soma} sao {quant2} pares e {quant3} impares\")"
   ]
  },
  {
   "cell_type": "markdown",
   "metadata": {},
   "source": [
    "4. Faça um programa em Python que leia 5 valores inteiros e:\n",
    "• Encontre e mostre o maior valor\n",
    "• Encontre e mostre o menor valor\n",
    "• Calcule e mostre a média dos números lidos"
   ]
  },
  {
   "cell_type": "code",
   "execution_count": null,
   "metadata": {},
   "outputs": [],
   "source": []
  }
 ],
 "metadata": {
  "kernelspec": {
   "display_name": "Python 3",
   "language": "python",
   "name": "python3"
  },
  "language_info": {
   "codemirror_mode": {
    "name": "ipython",
    "version": 3
   },
   "file_extension": ".py",
   "mimetype": "text/x-python",
   "name": "python",
   "nbconvert_exporter": "python",
   "pygments_lexer": "ipython3",
   "version": "3.12.3"
  }
 },
 "nbformat": 4,
 "nbformat_minor": 2
}
